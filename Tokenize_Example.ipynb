{
 "cells": [
  {
   "cell_type": "code",
   "execution_count": 1,
   "id": "96330242",
   "metadata": {},
   "outputs": [],
   "source": [
    "from selfiespredict.data.load_data import Data_Cleaner"
   ]
  },
  {
   "cell_type": "code",
   "execution_count": 2,
   "id": "57e0e90c-2217-413c-aacc-8d62faad5c1b",
   "metadata": {},
   "outputs": [],
   "source": [
    "import os"
   ]
  },
  {
   "cell_type": "code",
   "execution_count": 3,
   "id": "ca9d4955-b1a5-4513-8b34-9a77191b37b1",
   "metadata": {},
   "outputs": [],
   "source": [
    "test = Data_Cleaner()"
   ]
  },
  {
   "cell_type": "code",
   "execution_count": 4,
   "id": "bceee066",
   "metadata": {},
   "outputs": [],
   "source": [
    "test.gen_SMILE_tokenized_SELFIES(\"USPTO_480k\", True)"
   ]
  }
 ],
 "metadata": {
  "kernelspec": {
   "display_name": "projekt2Env",
   "language": "python",
   "name": "projekt2env"
  },
  "language_info": {
   "codemirror_mode": {
    "name": "ipython",
    "version": 3
   },
   "file_extension": ".py",
   "mimetype": "text/x-python",
   "name": "python",
   "nbconvert_exporter": "python",
   "pygments_lexer": "ipython3",
   "version": "3.8.8"
  }
 },
 "nbformat": 4,
 "nbformat_minor": 5
}
