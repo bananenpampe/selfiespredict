{
  "cells": [
    {
      "cell_type": "code",
      "execution_count": 2,
      "metadata": {
        "colab": {
          "base_uri": "https://localhost:8080/"
        },
        "id": "UCanjxgqdWzE",
        "outputId": "dcddf323-a57e-4e63-99c3-00df59bc3d47"
      },
      "outputs": [
        {
          "output_type": "stream",
          "name": "stdout",
          "text": [
            "Drive already mounted at /content/drive; to attempt to forcibly remount, call drive.mount(\"/content/drive\", force_remount=True).\n"
          ]
        }
      ],
      "source": [
        "from google.colab import drive\n",
        "drive.mount('/content/drive')"
      ]
    },
    {
      "cell_type": "code",
      "execution_count": 3,
      "metadata": {
        "colab": {
          "base_uri": "https://localhost:8080/"
        },
        "id": "yZ8yWyaidxZK",
        "outputId": "0303088b-6119-45a6-fc86-96d33b4bce09"
      },
      "outputs": [
        {
          "output_type": "stream",
          "name": "stdout",
          "text": [
            "/content/drive/My Drive/Github/selfiespredict\n"
          ]
        }
      ],
      "source": [
        "%cd /content/drive/My Drive/Github/selfiespredict"
      ]
    },
    {
      "cell_type": "code",
      "execution_count": null,
      "metadata": {
        "colab": {
          "base_uri": "https://localhost:8080/"
        },
        "id": "djOq5r99d4oM",
        "outputId": "1f56f296-c3a7-487b-b234-0d1b54b67029"
      },
      "outputs": [
        {
          "name": "stdout",
          "output_type": "stream",
          "text": [
            "fatal: not a git repository (or any of the parent directories): .git\n"
          ]
        }
      ],
      "source": [
        "!git pull"
      ]
    },
    {
      "cell_type": "code",
      "execution_count": 4,
      "metadata": {
        "colab": {
          "base_uri": "https://localhost:8080/"
        },
        "id": "x1IpHgvIeLuh",
        "outputId": "e1a4d93b-69c4-4b13-94ec-ad7e5bbeb255"
      },
      "outputs": [
        {
          "output_type": "stream",
          "name": "stdout",
          "text": [
            "Obtaining file:///content/drive/My%20Drive/Github/selfiespredict\n",
            "  Installing build dependencies ... \u001b[?25l\u001b[?25hdone\n",
            "  Getting requirements to build wheel ... \u001b[?25l\u001b[?25hdone\n",
            "    Preparing wheel metadata ... \u001b[?25l\u001b[?25hdone\n",
            "Requirement already satisfied: wandb in /usr/local/lib/python3.7/site-packages (from selfiespredict==0.0.post1.dev69+g8166cb4.d20211219) (0.12.9)\n",
            "Requirement already satisfied: OpenNMT-py in /usr/local/lib/python3.7/site-packages (from selfiespredict==0.0.post1.dev69+g8166cb4.d20211219) (2.2.0)\n",
            "Requirement already satisfied: gdown in /usr/local/lib/python3.7/site-packages (from selfiespredict==0.0.post1.dev69+g8166cb4.d20211219) (4.2.0)\n",
            "Requirement already satisfied: Pillow in /usr/local/lib/python3.7/site-packages (from selfiespredict==0.0.post1.dev69+g8166cb4.d20211219) (8.4.0)\n",
            "Requirement already satisfied: rdkit-pypi in /usr/local/lib/python3.7/site-packages (from selfiespredict==0.0.post1.dev69+g8166cb4.d20211219) (2021.9.3)\n",
            "Requirement already satisfied: importlib-metadata in /usr/local/lib/python3.7/site-packages (from selfiespredict==0.0.post1.dev69+g8166cb4.d20211219) (4.9.0)\n",
            "Requirement already satisfied: selfies in /usr/local/lib/python3.7/site-packages (from selfiespredict==0.0.post1.dev69+g8166cb4.d20211219) (2.0.0)\n",
            "Requirement already satisfied: filelock in /usr/local/lib/python3.7/site-packages (from gdown->selfiespredict==0.0.post1.dev69+g8166cb4.d20211219) (3.4.0)\n",
            "Requirement already satisfied: beautifulsoup4 in /usr/local/lib/python3.7/site-packages (from gdown->selfiespredict==0.0.post1.dev69+g8166cb4.d20211219) (4.10.0)\n",
            "Requirement already satisfied: six in /usr/local/lib/python3.7/site-packages (from gdown->selfiespredict==0.0.post1.dev69+g8166cb4.d20211219) (1.15.0)\n",
            "Requirement already satisfied: requests[socks] in /usr/local/lib/python3.7/site-packages (from gdown->selfiespredict==0.0.post1.dev69+g8166cb4.d20211219) (2.25.1)\n",
            "Requirement already satisfied: tqdm in /usr/local/lib/python3.7/site-packages (from gdown->selfiespredict==0.0.post1.dev69+g8166cb4.d20211219) (4.59.0)\n",
            "Requirement already satisfied: soupsieve>1.2 in /usr/local/lib/python3.7/site-packages (from beautifulsoup4->gdown->selfiespredict==0.0.post1.dev69+g8166cb4.d20211219) (2.3.1)\n",
            "Requirement already satisfied: zipp>=0.5 in /usr/local/lib/python3.7/site-packages (from importlib-metadata->selfiespredict==0.0.post1.dev69+g8166cb4.d20211219) (3.6.0)\n",
            "Requirement already satisfied: typing-extensions>=3.6.4 in /usr/local/lib/python3.7/site-packages (from importlib-metadata->selfiespredict==0.0.post1.dev69+g8166cb4.d20211219) (4.0.1)\n",
            "Requirement already satisfied: flask in /usr/local/lib/python3.7/site-packages (from OpenNMT-py->selfiespredict==0.0.post1.dev69+g8166cb4.d20211219) (2.0.2)\n",
            "Requirement already satisfied: pyyaml in /usr/local/lib/python3.7/site-packages (from OpenNMT-py->selfiespredict==0.0.post1.dev69+g8166cb4.d20211219) (6.0)\n",
            "Requirement already satisfied: pyonmttok<2,>=1.23 in /usr/local/lib/python3.7/site-packages (from OpenNMT-py->selfiespredict==0.0.post1.dev69+g8166cb4.d20211219) (1.30.0)\n",
            "Requirement already satisfied: waitress in /usr/local/lib/python3.7/site-packages (from OpenNMT-py->selfiespredict==0.0.post1.dev69+g8166cb4.d20211219) (2.0.0)\n",
            "Requirement already satisfied: configargparse in /usr/local/lib/python3.7/site-packages (from OpenNMT-py->selfiespredict==0.0.post1.dev69+g8166cb4.d20211219) (1.5.3)\n",
            "Requirement already satisfied: torchtext==0.5.0 in /usr/local/lib/python3.7/site-packages (from OpenNMT-py->selfiespredict==0.0.post1.dev69+g8166cb4.d20211219) (0.5.0)\n",
            "Requirement already satisfied: tensorboard>=2.3 in /usr/local/lib/python3.7/site-packages (from OpenNMT-py->selfiespredict==0.0.post1.dev69+g8166cb4.d20211219) (2.7.0)\n",
            "Requirement already satisfied: torch>=1.6.0 in /usr/local/lib/python3.7/site-packages (from OpenNMT-py->selfiespredict==0.0.post1.dev69+g8166cb4.d20211219) (1.10.1)\n",
            "Requirement already satisfied: numpy in /usr/local/lib/python3.7/site-packages (from torchtext==0.5.0->OpenNMT-py->selfiespredict==0.0.post1.dev69+g8166cb4.d20211219) (1.21.4)\n",
            "Requirement already satisfied: sentencepiece in /usr/local/lib/python3.7/site-packages (from torchtext==0.5.0->OpenNMT-py->selfiespredict==0.0.post1.dev69+g8166cb4.d20211219) (0.1.96)\n",
            "Requirement already satisfied: tensorboard-plugin-wit>=1.6.0 in /usr/local/lib/python3.7/site-packages (from tensorboard>=2.3->OpenNMT-py->selfiespredict==0.0.post1.dev69+g8166cb4.d20211219) (1.8.0)\n",
            "Requirement already satisfied: google-auth-oauthlib<0.5,>=0.4.1 in /usr/local/lib/python3.7/site-packages (from tensorboard>=2.3->OpenNMT-py->selfiespredict==0.0.post1.dev69+g8166cb4.d20211219) (0.4.6)\n",
            "Requirement already satisfied: werkzeug>=0.11.15 in /usr/local/lib/python3.7/site-packages (from tensorboard>=2.3->OpenNMT-py->selfiespredict==0.0.post1.dev69+g8166cb4.d20211219) (2.0.2)\n",
            "Requirement already satisfied: wheel>=0.26 in /usr/local/lib/python3.7/site-packages (from tensorboard>=2.3->OpenNMT-py->selfiespredict==0.0.post1.dev69+g8166cb4.d20211219) (0.36.2)\n",
            "Requirement already satisfied: absl-py>=0.4 in /usr/local/lib/python3.7/site-packages (from tensorboard>=2.3->OpenNMT-py->selfiespredict==0.0.post1.dev69+g8166cb4.d20211219) (1.0.0)\n",
            "Requirement already satisfied: setuptools>=41.0.0 in /usr/local/lib/python3.7/site-packages (from tensorboard>=2.3->OpenNMT-py->selfiespredict==0.0.post1.dev69+g8166cb4.d20211219) (49.6.0.post20210108)\n",
            "Requirement already satisfied: google-auth<3,>=1.6.3 in /usr/local/lib/python3.7/site-packages (from tensorboard>=2.3->OpenNMT-py->selfiespredict==0.0.post1.dev69+g8166cb4.d20211219) (2.3.3)\n",
            "Requirement already satisfied: markdown>=2.6.8 in /usr/local/lib/python3.7/site-packages (from tensorboard>=2.3->OpenNMT-py->selfiespredict==0.0.post1.dev69+g8166cb4.d20211219) (3.3.6)\n",
            "Requirement already satisfied: grpcio>=1.24.3 in /usr/local/lib/python3.7/site-packages (from tensorboard>=2.3->OpenNMT-py->selfiespredict==0.0.post1.dev69+g8166cb4.d20211219) (1.43.0)\n",
            "Requirement already satisfied: tensorboard-data-server<0.7.0,>=0.6.0 in /usr/local/lib/python3.7/site-packages (from tensorboard>=2.3->OpenNMT-py->selfiespredict==0.0.post1.dev69+g8166cb4.d20211219) (0.6.1)\n",
            "Requirement already satisfied: protobuf>=3.6.0 in /usr/local/lib/python3.7/site-packages (from tensorboard>=2.3->OpenNMT-py->selfiespredict==0.0.post1.dev69+g8166cb4.d20211219) (3.19.1)\n",
            "Requirement already satisfied: cachetools<5.0,>=2.0.0 in /usr/local/lib/python3.7/site-packages (from google-auth<3,>=1.6.3->tensorboard>=2.3->OpenNMT-py->selfiespredict==0.0.post1.dev69+g8166cb4.d20211219) (4.2.4)\n",
            "Requirement already satisfied: pyasn1-modules>=0.2.1 in /usr/local/lib/python3.7/site-packages (from google-auth<3,>=1.6.3->tensorboard>=2.3->OpenNMT-py->selfiespredict==0.0.post1.dev69+g8166cb4.d20211219) (0.2.8)\n",
            "Requirement already satisfied: rsa<5,>=3.1.4 in /usr/local/lib/python3.7/site-packages (from google-auth<3,>=1.6.3->tensorboard>=2.3->OpenNMT-py->selfiespredict==0.0.post1.dev69+g8166cb4.d20211219) (4.8)\n",
            "Requirement already satisfied: requests-oauthlib>=0.7.0 in /usr/local/lib/python3.7/site-packages (from google-auth-oauthlib<0.5,>=0.4.1->tensorboard>=2.3->OpenNMT-py->selfiespredict==0.0.post1.dev69+g8166cb4.d20211219) (1.3.0)\n",
            "Requirement already satisfied: pyasn1<0.5.0,>=0.4.6 in /usr/local/lib/python3.7/site-packages (from pyasn1-modules>=0.2.1->google-auth<3,>=1.6.3->tensorboard>=2.3->OpenNMT-py->selfiespredict==0.0.post1.dev69+g8166cb4.d20211219) (0.4.8)\n",
            "Requirement already satisfied: certifi>=2017.4.17 in /usr/local/lib/python3.7/site-packages (from requests[socks]->gdown->selfiespredict==0.0.post1.dev69+g8166cb4.d20211219) (2021.10.8)\n",
            "Requirement already satisfied: chardet<5,>=3.0.2 in /usr/local/lib/python3.7/site-packages (from requests[socks]->gdown->selfiespredict==0.0.post1.dev69+g8166cb4.d20211219) (4.0.0)\n",
            "Requirement already satisfied: idna<3,>=2.5 in /usr/local/lib/python3.7/site-packages (from requests[socks]->gdown->selfiespredict==0.0.post1.dev69+g8166cb4.d20211219) (2.10)\n",
            "Requirement already satisfied: urllib3<1.27,>=1.21.1 in /usr/local/lib/python3.7/site-packages (from requests[socks]->gdown->selfiespredict==0.0.post1.dev69+g8166cb4.d20211219) (1.26.3)\n",
            "Requirement already satisfied: oauthlib>=3.0.0 in /usr/local/lib/python3.7/site-packages (from requests-oauthlib>=0.7.0->google-auth-oauthlib<0.5,>=0.4.1->tensorboard>=2.3->OpenNMT-py->selfiespredict==0.0.post1.dev69+g8166cb4.d20211219) (3.1.1)\n",
            "Requirement already satisfied: itsdangerous>=2.0 in /usr/local/lib/python3.7/site-packages (from flask->OpenNMT-py->selfiespredict==0.0.post1.dev69+g8166cb4.d20211219) (2.0.1)\n",
            "Requirement already satisfied: click>=7.1.2 in /usr/local/lib/python3.7/site-packages (from flask->OpenNMT-py->selfiespredict==0.0.post1.dev69+g8166cb4.d20211219) (8.0.3)\n",
            "Requirement already satisfied: Jinja2>=3.0 in /usr/local/lib/python3.7/site-packages (from flask->OpenNMT-py->selfiespredict==0.0.post1.dev69+g8166cb4.d20211219) (3.0.3)\n",
            "Requirement already satisfied: MarkupSafe>=2.0 in /usr/local/lib/python3.7/site-packages (from Jinja2>=3.0->flask->OpenNMT-py->selfiespredict==0.0.post1.dev69+g8166cb4.d20211219) (2.0.1)\n",
            "Requirement already satisfied: PySocks!=1.5.7,>=1.5.6 in /usr/local/lib/python3.7/site-packages (from requests[socks]->gdown->selfiespredict==0.0.post1.dev69+g8166cb4.d20211219) (1.7.1)\n",
            "Requirement already satisfied: configparser>=3.8.1 in /usr/local/lib/python3.7/site-packages (from wandb->selfiespredict==0.0.post1.dev69+g8166cb4.d20211219) (5.2.0)\n",
            "Requirement already satisfied: shortuuid>=0.5.0 in /usr/local/lib/python3.7/site-packages (from wandb->selfiespredict==0.0.post1.dev69+g8166cb4.d20211219) (1.0.8)\n",
            "Requirement already satisfied: yaspin>=1.0.0 in /usr/local/lib/python3.7/site-packages (from wandb->selfiespredict==0.0.post1.dev69+g8166cb4.d20211219) (2.1.0)\n",
            "Requirement already satisfied: subprocess32>=3.5.3 in /usr/local/lib/python3.7/site-packages (from wandb->selfiespredict==0.0.post1.dev69+g8166cb4.d20211219) (3.5.4)\n",
            "Requirement already satisfied: GitPython>=1.0.0 in /usr/local/lib/python3.7/site-packages (from wandb->selfiespredict==0.0.post1.dev69+g8166cb4.d20211219) (3.1.24)\n",
            "Requirement already satisfied: pathtools in /usr/local/lib/python3.7/site-packages (from wandb->selfiespredict==0.0.post1.dev69+g8166cb4.d20211219) (0.1.2)\n",
            "Requirement already satisfied: python-dateutil>=2.6.1 in /usr/local/lib/python3.7/site-packages (from wandb->selfiespredict==0.0.post1.dev69+g8166cb4.d20211219) (2.8.2)\n",
            "Requirement already satisfied: psutil>=5.0.0 in /usr/local/lib/python3.7/site-packages (from wandb->selfiespredict==0.0.post1.dev69+g8166cb4.d20211219) (5.8.0)\n",
            "Requirement already satisfied: docker-pycreds>=0.4.0 in /usr/local/lib/python3.7/site-packages (from wandb->selfiespredict==0.0.post1.dev69+g8166cb4.d20211219) (0.4.0)\n",
            "Requirement already satisfied: promise<3,>=2.0 in /usr/local/lib/python3.7/site-packages (from wandb->selfiespredict==0.0.post1.dev69+g8166cb4.d20211219) (2.3)\n",
            "Requirement already satisfied: sentry-sdk>=1.0.0 in /usr/local/lib/python3.7/site-packages (from wandb->selfiespredict==0.0.post1.dev69+g8166cb4.d20211219) (1.5.1)\n",
            "Requirement already satisfied: gitdb<5,>=4.0.1 in /usr/local/lib/python3.7/site-packages (from GitPython>=1.0.0->wandb->selfiespredict==0.0.post1.dev69+g8166cb4.d20211219) (4.0.9)\n",
            "Requirement already satisfied: smmap<6,>=3.0.1 in /usr/local/lib/python3.7/site-packages (from gitdb<5,>=4.0.1->GitPython>=1.0.0->wandb->selfiespredict==0.0.post1.dev69+g8166cb4.d20211219) (5.0.0)\n",
            "Requirement already satisfied: termcolor<2.0.0,>=1.1.0 in /usr/local/lib/python3.7/site-packages (from yaspin>=1.0.0->wandb->selfiespredict==0.0.post1.dev69+g8166cb4.d20211219) (1.1.0)\n",
            "Installing collected packages: selfiespredict\n",
            "  Attempting uninstall: selfiespredict\n",
            "    Found existing installation: selfiespredict 0.0.post1.dev69+g8166cb4.d20211219\n",
            "    Uninstalling selfiespredict-0.0.post1.dev69+g8166cb4.d20211219:\n",
            "      Successfully uninstalled selfiespredict-0.0.post1.dev69+g8166cb4.d20211219\n",
            "  Running setup.py develop for selfiespredict\n",
            "Successfully installed selfiespredict\n"
          ]
        }
      ],
      "source": [
        "! pip install -e ."
      ]
    },
    {
      "cell_type": "code",
      "source": [
        "!pip install -q condacolab\n",
        "import condacolab\n",
        "condacolab.install()"
      ],
      "metadata": {
        "id": "NabqWSdAaNhz",
        "colab": {
          "base_uri": "https://localhost:8080/"
        },
        "outputId": "905c19f7-d449-48e9-fea5-4dd509e8fe05"
      },
      "execution_count": 5,
      "outputs": [
        {
          "output_type": "stream",
          "name": "stdout",
          "text": [
            "✨🍰✨ Everything looks OK!\n"
          ]
        }
      ]
    },
    {
      "cell_type": "code",
      "source": [
        "!pip install faerun"
      ],
      "metadata": {
        "colab": {
          "base_uri": "https://localhost:8080/"
        },
        "id": "uY7OZ0-HWjbR",
        "outputId": "75d78e02-5570-473a-8d97-b901ac87c64f"
      },
      "execution_count": 6,
      "outputs": [
        {
          "output_type": "stream",
          "name": "stdout",
          "text": [
            "Requirement already satisfied: faerun in /usr/local/lib/python3.7/site-packages (0.3.20)\n",
            "Requirement already satisfied: colour>=0.1.5 in /usr/local/lib/python3.7/site-packages (from faerun) (0.1.5)\n",
            "Requirement already satisfied: matplotlib>=3.0.2 in /usr/local/lib/python3.7/site-packages (from faerun) (3.5.1)\n",
            "Requirement already satisfied: ujson>=1.35 in /usr/local/lib/python3.7/site-packages (from faerun) (5.0.0)\n",
            "Requirement already satisfied: numpy>=1.15.4 in /usr/local/lib/python3.7/site-packages (from faerun) (1.21.4)\n",
            "Requirement already satisfied: Jinja2>=2.10 in /usr/local/lib/python3.7/site-packages (from faerun) (3.0.3)\n",
            "Requirement already satisfied: pandas>=0.24.2 in /usr/local/lib/python3.7/site-packages (from faerun) (1.3.5)\n",
            "Requirement already satisfied: CherryPy>=18.1.0 in /usr/local/lib/python3.7/site-packages (from faerun) (18.6.1)\n",
            "Requirement already satisfied: jaraco.collections in /usr/local/lib/python3.7/site-packages (from CherryPy>=18.1.0->faerun) (3.4.0)\n",
            "Requirement already satisfied: portend>=2.1.1 in /usr/local/lib/python3.7/site-packages (from CherryPy>=18.1.0->faerun) (3.1.0)\n",
            "Requirement already satisfied: cheroot>=8.2.1 in /usr/local/lib/python3.7/site-packages (from CherryPy>=18.1.0->faerun) (8.5.2)\n",
            "Requirement already satisfied: zc.lockfile in /usr/local/lib/python3.7/site-packages (from CherryPy>=18.1.0->faerun) (2.0)\n",
            "Requirement already satisfied: more-itertools in /usr/local/lib/python3.7/site-packages (from CherryPy>=18.1.0->faerun) (8.12.0)\n",
            "Requirement already satisfied: jaraco.functools in /usr/local/lib/python3.7/site-packages (from cheroot>=8.2.1->CherryPy>=18.1.0->faerun) (3.4.0)\n",
            "Requirement already satisfied: six>=1.11.0 in /usr/local/lib/python3.7/site-packages (from cheroot>=8.2.1->CherryPy>=18.1.0->faerun) (1.15.0)\n",
            "Requirement already satisfied: MarkupSafe>=2.0 in /usr/local/lib/python3.7/site-packages (from Jinja2>=2.10->faerun) (2.0.1)\n",
            "Requirement already satisfied: pyparsing>=2.2.1 in /usr/local/lib/python3.7/site-packages (from matplotlib>=3.0.2->faerun) (3.0.6)\n",
            "Requirement already satisfied: packaging>=20.0 in /usr/local/lib/python3.7/site-packages (from matplotlib>=3.0.2->faerun) (21.3)\n",
            "Requirement already satisfied: python-dateutil>=2.7 in /usr/local/lib/python3.7/site-packages (from matplotlib>=3.0.2->faerun) (2.8.2)\n",
            "Requirement already satisfied: fonttools>=4.22.0 in /usr/local/lib/python3.7/site-packages (from matplotlib>=3.0.2->faerun) (4.28.4)\n",
            "Requirement already satisfied: cycler>=0.10 in /usr/local/lib/python3.7/site-packages (from matplotlib>=3.0.2->faerun) (0.11.0)\n",
            "Requirement already satisfied: pillow>=6.2.0 in /usr/local/lib/python3.7/site-packages (from matplotlib>=3.0.2->faerun) (8.4.0)\n",
            "Requirement already satisfied: kiwisolver>=1.0.1 in /usr/local/lib/python3.7/site-packages (from matplotlib>=3.0.2->faerun) (1.3.2)\n",
            "Requirement already satisfied: pytz>=2017.3 in /usr/local/lib/python3.7/site-packages (from pandas>=0.24.2->faerun) (2021.3)\n",
            "Requirement already satisfied: tempora>=1.8 in /usr/local/lib/python3.7/site-packages (from portend>=2.1.1->CherryPy>=18.1.0->faerun) (4.1.2)\n",
            "Requirement already satisfied: jaraco.classes in /usr/local/lib/python3.7/site-packages (from jaraco.collections->CherryPy>=18.1.0->faerun) (3.2.1)\n",
            "Requirement already satisfied: jaraco.text in /usr/local/lib/python3.7/site-packages (from jaraco.collections->CherryPy>=18.1.0->faerun) (3.6.0)\n",
            "Requirement already satisfied: importlib-resources in /usr/local/lib/python3.7/site-packages (from jaraco.text->jaraco.collections->CherryPy>=18.1.0->faerun) (5.4.0)\n",
            "Requirement already satisfied: zipp>=3.1.0 in /usr/local/lib/python3.7/site-packages (from importlib-resources->jaraco.text->jaraco.collections->CherryPy>=18.1.0->faerun) (3.6.0)\n",
            "Requirement already satisfied: setuptools in /usr/local/lib/python3.7/site-packages (from zc.lockfile->CherryPy>=18.1.0->faerun) (49.6.0.post20210108)\n"
          ]
        }
      ]
    },
    {
      "cell_type": "code",
      "source": [
        "!pip install mhfp"
      ],
      "metadata": {
        "colab": {
          "base_uri": "https://localhost:8080/"
        },
        "id": "XfUtIw7xe8Y_",
        "outputId": "715cce90-8207-4665-ec51-428a2f4d9f96"
      },
      "execution_count": 7,
      "outputs": [
        {
          "output_type": "stream",
          "name": "stdout",
          "text": [
            "Requirement already satisfied: mhfp in /usr/local/lib/python3.7/site-packages (1.9.2)\n"
          ]
        }
      ]
    },
    {
      "cell_type": "code",
      "source": [
        "# hide\n",
        "import pandas as pd\n",
        "import tmap\n",
        "from faerun import Faerun\n",
        "from mhfp.encoder import MHFPEncoder\n",
        "from rdkit.Chem import AllChem\n",
        "import numpy as np\n",
        "import tqdm"
      ],
      "metadata": {
        "id": "DUJYpG48V_dX"
      },
      "execution_count": 8,
      "outputs": []
    },
    {
      "cell_type": "code",
      "source": [
        "with open('./data/tokenized_data/SMILES/USPTO_480k/tgt-val.txt') as file:\n",
        "    smiles = file.readlines()"
      ],
      "metadata": {
        "id": "LS1q6AJ2lJKV"
      },
      "execution_count": 9,
      "outputs": []
    },
    {
      "cell_type": "code",
      "source": [
        "smiles = [item.replace(\" \", \"\").replace(\"\\n\", \"\") for item in smiles]"
      ],
      "metadata": {
        "id": "LMlzxs_ilNOS"
      },
      "execution_count": 10,
      "outputs": []
    },
    {
      "cell_type": "code",
      "source": [
        "df = pd.DataFrame()\n",
        "df[\"Smiles\"] = smiles"
      ],
      "metadata": {
        "id": "BPlsCaLQWxui"
      },
      "execution_count": 37,
      "outputs": []
    },
    {
      "cell_type": "code",
      "source": [
        "df.head()"
      ],
      "metadata": {
        "colab": {
          "base_uri": "https://localhost:8080/",
          "height": 206
        },
        "id": "Ehf8TPcEXFwX",
        "outputId": "5d7f6067-ceb3-49fa-f048-661a424e2df8"
      },
      "execution_count": null,
      "outputs": [
        {
          "output_type": "execute_result",
          "data": {
            "text/html": [
              "\n",
              "  <div id=\"df-cd028c62-be60-4e91-ad6e-76ad61ed6adc\">\n",
              "    <div class=\"colab-df-container\">\n",
              "      <div>\n",
              "<style scoped>\n",
              "    .dataframe tbody tr th:only-of-type {\n",
              "        vertical-align: middle;\n",
              "    }\n",
              "\n",
              "    .dataframe tbody tr th {\n",
              "        vertical-align: top;\n",
              "    }\n",
              "\n",
              "    .dataframe thead th {\n",
              "        text-align: right;\n",
              "    }\n",
              "</style>\n",
              "<table border=\"1\" class=\"dataframe\">\n",
              "  <thead>\n",
              "    <tr style=\"text-align: right;\">\n",
              "      <th></th>\n",
              "      <th>Smiles</th>\n",
              "      <th>categories</th>\n",
              "    </tr>\n",
              "  </thead>\n",
              "  <tbody>\n",
              "    <tr>\n",
              "      <th>0</th>\n",
              "      <td>CC(C)=O.COc1ccc(S(=O)(=O)Cl)cc1.[I-].[Na+]\\n</td>\n",
              "      <td>2.0</td>\n",
              "    </tr>\n",
              "    <tr>\n",
              "      <th>1</th>\n",
              "      <td>CC(C)(C)[O-].N#Cc1c(N)nc(Cl)c(C#N)c1-c1ccccc1....</td>\n",
              "      <td>2.0</td>\n",
              "    </tr>\n",
              "    <tr>\n",
              "      <th>2</th>\n",
              "      <td>C1CCOC1.CCCCCCC.CN1CCC(CCO)CC1.Cc1ccc(N2CCN(C(...</td>\n",
              "      <td>2.0</td>\n",
              "    </tr>\n",
              "    <tr>\n",
              "      <th>3</th>\n",
              "      <td>CC(C)(C)OC(=O)N1CCC(COC(=O)C2CCC3CN2C(=O)N3OS(...</td>\n",
              "      <td>2.0</td>\n",
              "    </tr>\n",
              "    <tr>\n",
              "      <th>4</th>\n",
              "      <td>CCC12CCC3C4CCC(=O)C=C4CCC3C1C(O)CC2=O.ClCCl.O....</td>\n",
              "      <td>2.0</td>\n",
              "    </tr>\n",
              "  </tbody>\n",
              "</table>\n",
              "</div>\n",
              "      <button class=\"colab-df-convert\" onclick=\"convertToInteractive('df-cd028c62-be60-4e91-ad6e-76ad61ed6adc')\"\n",
              "              title=\"Convert this dataframe to an interactive table.\"\n",
              "              style=\"display:none;\">\n",
              "        \n",
              "  <svg xmlns=\"http://www.w3.org/2000/svg\" height=\"24px\"viewBox=\"0 0 24 24\"\n",
              "       width=\"24px\">\n",
              "    <path d=\"M0 0h24v24H0V0z\" fill=\"none\"/>\n",
              "    <path d=\"M18.56 5.44l.94 2.06.94-2.06 2.06-.94-2.06-.94-.94-2.06-.94 2.06-2.06.94zm-11 1L8.5 8.5l.94-2.06 2.06-.94-2.06-.94L8.5 2.5l-.94 2.06-2.06.94zm10 10l.94 2.06.94-2.06 2.06-.94-2.06-.94-.94-2.06-.94 2.06-2.06.94z\"/><path d=\"M17.41 7.96l-1.37-1.37c-.4-.4-.92-.59-1.43-.59-.52 0-1.04.2-1.43.59L10.3 9.45l-7.72 7.72c-.78.78-.78 2.05 0 2.83L4 21.41c.39.39.9.59 1.41.59.51 0 1.02-.2 1.41-.59l7.78-7.78 2.81-2.81c.8-.78.8-2.07 0-2.86zM5.41 20L4 18.59l7.72-7.72 1.47 1.35L5.41 20z\"/>\n",
              "  </svg>\n",
              "      </button>\n",
              "      \n",
              "  <style>\n",
              "    .colab-df-container {\n",
              "      display:flex;\n",
              "      flex-wrap:wrap;\n",
              "      gap: 12px;\n",
              "    }\n",
              "\n",
              "    .colab-df-convert {\n",
              "      background-color: #E8F0FE;\n",
              "      border: none;\n",
              "      border-radius: 50%;\n",
              "      cursor: pointer;\n",
              "      display: none;\n",
              "      fill: #1967D2;\n",
              "      height: 32px;\n",
              "      padding: 0 0 0 0;\n",
              "      width: 32px;\n",
              "    }\n",
              "\n",
              "    .colab-df-convert:hover {\n",
              "      background-color: #E2EBFA;\n",
              "      box-shadow: 0px 1px 2px rgba(60, 64, 67, 0.3), 0px 1px 3px 1px rgba(60, 64, 67, 0.15);\n",
              "      fill: #174EA6;\n",
              "    }\n",
              "\n",
              "    [theme=dark] .colab-df-convert {\n",
              "      background-color: #3B4455;\n",
              "      fill: #D2E3FC;\n",
              "    }\n",
              "\n",
              "    [theme=dark] .colab-df-convert:hover {\n",
              "      background-color: #434B5C;\n",
              "      box-shadow: 0px 1px 3px 1px rgba(0, 0, 0, 0.15);\n",
              "      filter: drop-shadow(0px 1px 2px rgba(0, 0, 0, 0.3));\n",
              "      fill: #FFFFFF;\n",
              "    }\n",
              "  </style>\n",
              "\n",
              "      <script>\n",
              "        const buttonEl =\n",
              "          document.querySelector('#df-cd028c62-be60-4e91-ad6e-76ad61ed6adc button.colab-df-convert');\n",
              "        buttonEl.style.display =\n",
              "          google.colab.kernel.accessAllowed ? 'block' : 'none';\n",
              "\n",
              "        async function convertToInteractive(key) {\n",
              "          const element = document.querySelector('#df-cd028c62-be60-4e91-ad6e-76ad61ed6adc');\n",
              "          const dataTable =\n",
              "            await google.colab.kernel.invokeFunction('convertToInteractive',\n",
              "                                                     [key], {});\n",
              "          if (!dataTable) return;\n",
              "\n",
              "          const docLinkHtml = 'Like what you see? Visit the ' +\n",
              "            '<a target=\"_blank\" href=https://colab.research.google.com/notebooks/data_table.ipynb>data table notebook</a>'\n",
              "            + ' to learn more about interactive tables.';\n",
              "          element.innerHTML = '';\n",
              "          dataTable['output_type'] = 'display_data';\n",
              "          await google.colab.output.renderOutput(dataTable, element);\n",
              "          const docLink = document.createElement('div');\n",
              "          docLink.innerHTML = docLinkHtml;\n",
              "          element.appendChild(docLink);\n",
              "        }\n",
              "      </script>\n",
              "    </div>\n",
              "  </div>\n",
              "  "
            ],
            "text/plain": [
              "                                              Smiles  categories\n",
              "0       CC(C)=O.COc1ccc(S(=O)(=O)Cl)cc1.[I-].[Na+]\\n         2.0\n",
              "1  CC(C)(C)[O-].N#Cc1c(N)nc(Cl)c(C#N)c1-c1ccccc1....         2.0\n",
              "2  C1CCOC1.CCCCCCC.CN1CCC(CCO)CC1.Cc1ccc(N2CCN(C(...         2.0\n",
              "3  CC(C)(C)OC(=O)N1CCC(COC(=O)C2CCC3CN2C(=O)N3OS(...         2.0\n",
              "4  CCC12CCC3C4CCC(=O)C=C4CCC3C1C(O)CC2=O.ClCCl.O....         2.0"
            ]
          },
          "metadata": {},
          "execution_count": 22
        }
      ]
    },
    {
      "cell_type": "code",
      "source": [
        "df['categories'] = np.zeros(len(df))"
      ],
      "metadata": {
        "id": "O-wRPxN8Xi55"
      },
      "execution_count": 39,
      "outputs": []
    },
    {
      "cell_type": "code",
      "source": [
        "from selfiespredict.helpers.errormetrics import*\n",
        "def diff(first, second):\n",
        "        second = set(second)\n",
        "        return [item for item in first if item not in second]"
      ],
      "metadata": {
        "id": "yERC08E5ZSur"
      },
      "execution_count": 12,
      "outputs": []
    },
    {
      "cell_type": "code",
      "source": [
        "SELFIES = topN_accuracy(1, \"./results/predictions_best1_selfies_with_brackets.txt\", \"./data/tokenized_data/SELFIESwithBrackets/USPTO_480k/tgt-val.txt\")\n",
        "SMILES = topN_accuracy(1, \"./run/SMILES/Test_PredictionsSMILESModeltopVal1.txt\", \"./data/tokenized_data/SMILES/USPTO_480k/tgt-val.txt\")\n",
        "all = list(np.linspace(1,30000, 30000).astype(int))\n",
        "Both = (list(set(SMILES[1]).intersection(SELFIES[1])))\n",
        "onlySMILES = diff(SMILES[1],SELFIES[1])\n",
        "onlySELFIES = diff(SELFIES[1],SMILES[1])\n",
        "union = set(SMILES[1]).union(SELFIES[1])\n",
        "none = diff(all, union)\n",
        "len(none)+len(Both)+len(onlySMILES)+len(onlySELFIES)"
      ],
      "metadata": {
        "id": "5gC7NtO9Vafh",
        "outputId": "02f9b37e-96b6-4272-c4d1-c2cd674d9a76",
        "colab": {
          "base_uri": "https://localhost:8080/"
        }
      },
      "execution_count": 33,
      "outputs": [
        {
          "output_type": "execute_result",
          "data": {
            "text/plain": [
              "30000"
            ]
          },
          "metadata": {},
          "execution_count": 33
        }
      ]
    },
    {
      "cell_type": "code",
      "source": [
        "none = [item-1 for item in none]\n",
        "both = [item-1 for item in Both]\n",
        "onlySMILES = [item-1 for item in onlySMILES]\n",
        "onlySELFIES = [item-1 for item in onlySELFIES]"
      ],
      "metadata": {
        "id": "mlSWM_b9eZ7e"
      },
      "execution_count": 41,
      "outputs": []
    },
    {
      "cell_type": "code",
      "source": [
        "df['categories'] = np.zeros(len(df))\n",
        "df.at[none,\"categories\"] = 1 \n",
        "df.at[both,\"categories\"] = 2 \n",
        "df.at[onlySMILES,\"categories\"] = 3 \n",
        "df.at[onlySELFIES,\"categories\"] = 4"
      ],
      "metadata": {
        "id": "Wff6VlHHq-9q"
      },
      "execution_count": 45,
      "outputs": []
    },
    {
      "cell_type": "code",
      "source": [
        "# The number of permutations used by the MinHashing algorithm\n",
        "perm = 512\n",
        "\n",
        "# Initializing the MHFP encoder with 512 permutations\n",
        "enc = MHFPEncoder(perm)\n",
        "\n",
        "# Create MHFP fingerprints from SMILES\n",
        "# The fingerprint vectors have to be of the tm.VectorUint data type\n",
        "fingerprints = [tmap.VectorUint(enc.encode(s)) for s in df[\"Smiles\"]]"
      ],
      "metadata": {
        "id": "2Du02xDHbVeV"
      },
      "execution_count": 49,
      "outputs": []
    },
    {
      "cell_type": "code",
      "source": [
        "# Initialize the LSH Forest\n",
        "lf = tmap.LSHForest(perm)\n",
        "\n",
        "# Add the Fingerprints to the LSH Forest and index\n",
        "lf.batch_add(fingerprints)\n",
        "lf.index()\n",
        "\n",
        "# Get the coordinates\n",
        "x, y, s, t, _ = tmap.layout_from_lsh_forest(lf)"
      ],
      "metadata": {
        "id": "M4CK-Zuvfw94"
      },
      "execution_count": 50,
      "outputs": []
    },
    {
      "cell_type": "code",
      "source": [
        "# Now plot the data\n",
        "faerun = Faerun(view=\"front\", coords=False)\n",
        "\n",
        "legend_labels = [\n",
        "        (1.0, \"None\"),\n",
        "        (2.0, \"Both\"),\n",
        "        (3.0, \"Only SMILES\"),\n",
        "        (4.0, \"Only SELFIES\")\n",
        "    ]\n",
        "\n",
        "faerun.add_scatter(\n",
        "    \"predictionMap\",\n",
        "    {   \"x\": x, \n",
        "        \"y\": y, \n",
        "        \"c\": list(df.categories.values), \n",
        "        \"labels\": df[\"Smiles\"]},\n",
        "    colormap=\"tab10\",\n",
        "    point_scale=5,\n",
        "    max_point_size=10,   \n",
        "    has_legend=True,\n",
        "    categorical=False,\n",
        "    shader=\"sphere\",\n",
        "    legend_labels = legend_labels\n",
        ")\n",
        "\n",
        "faerun.add_tree(\"ESOL_Basic_tree\", {\"from\": s, \"to\": t}, point_helper=\"predictionMap\", color=\"#222222\")\n",
        "\n",
        "# Choose the \"smiles\" template to display structure on hover\n",
        "faerun.plot('predictionMap', template=\"smiles\", notebook_height=750)"
      ],
      "metadata": {
        "id": "IO672zp_f0pU"
      },
      "execution_count": 60,
      "outputs": []
    }
  ],
  "metadata": {
    "colab": {
      "name": "tmap",
      "provenance": []
    },
    "kernelspec": {
      "display_name": "Python 3",
      "name": "python3"
    },
    "language_info": {
      "name": "python"
    }
  },
  "nbformat": 4,
  "nbformat_minor": 0
}