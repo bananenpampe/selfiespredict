{
 "cells": [
  {
   "cell_type": "code",
   "execution_count": 1,
   "id": "96330242",
   "metadata": {},
   "outputs": [],
   "source": [
    "from selfiespredict.data.load_data import Data_Cleaner"
   ]
  },
  {
   "cell_type": "code",
   "execution_count": 2,
   "id": "97b99b16",
   "metadata": {},
   "outputs": [],
   "source": [
    "test = Data_Cleaner()"
   ]
  },
  {
   "cell_type": "code",
   "execution_count": 4,
   "id": "6ec7ba34",
   "metadata": {},
   "outputs": [
    {
     "name": "stderr",
     "output_type": "stream",
     "text": [
      "Downloading...\n",
      "From: https://drive.google.com/uc?id=1RysNBvB2rsMP0Ap9XXi02XiiZkEXCrA8\n",
      "To: C:\\Users\\Tim\\Documents\\GitHub\\selfiespredict\\data\\raw_data\\USPTO_480k\\src-train.txt\n",
      "100%|██████████| 57.4M/57.4M [00:22<00:00, 2.60MB/s]\n",
      "Downloading...\n",
      "From: https://drive.google.com/uc?id=1CxxcVqtmOmHE2nhmqPFA6bilavzpcIlb\n",
      "To: C:\\Users\\Tim\\Documents\\GitHub\\selfiespredict\\data\\raw_data\\USPTO_480k\\tgt-train.txt\n",
      "100%|██████████| 33.8M/33.8M [00:15<00:00, 2.24MB/s]\n",
      "Downloading...\n",
      "From: https://drive.google.com/uc?id=1FFN1nz2yB4VwrpWaBuiBDzFzdX3ONBsy\n",
      "To: C:\\Users\\Tim\\Documents\\GitHub\\selfiespredict\\data\\raw_data\\USPTO_480k\\src-val.txt\n",
      "100%|██████████| 4.21M/4.21M [00:01<00:00, 2.17MB/s]\n",
      "Downloading...\n",
      "From: https://drive.google.com/uc?id=1pYCjWkYvgp1ZQ78EKQBArOvt_2P1KnmI\n",
      "To: C:\\Users\\Tim\\Documents\\GitHub\\selfiespredict\\data\\raw_data\\USPTO_480k\\tgt-val.txt\n",
      "100%|██████████| 2.47M/2.47M [00:01<00:00, 2.02MB/s]\n",
      "Downloading...\n",
      "From: https://drive.google.com/uc?id=10t6pHj9yR8Tp3kDvG0KMHl7Bt_TUbQ8W\n",
      "To: C:\\Users\\Tim\\Documents\\GitHub\\selfiespredict\\data\\raw_data\\USPTO_480k\\src-test.txt\n",
      "100%|██████████| 5.64M/5.64M [00:02<00:00, 2.03MB/s]\n",
      "Downloading...\n",
      "From: https://drive.google.com/uc?id=1FeGuiGuz0chVBRgePMu0pGJA4FVReA-b\n",
      "To: C:\\Users\\Tim\\Documents\\GitHub\\selfiespredict\\data\\raw_data\\USPTO_480k\\tgt-test.txt\n",
      "100%|██████████| 3.30M/3.30M [00:01<00:00, 1.72MB/s]\n"
     ]
    }
   ],
   "source": [
    "test.import_data(\"USPTO_480k\")"
   ]
  },
  {
   "cell_type": "code",
   "execution_count": 3,
   "id": "4c7838f8",
   "metadata": {},
   "outputs": [
    {
     "name": "stdout",
     "output_type": "stream",
     "text": [
      "./data/raw_data\\USPTO_STEREO\\src-train.txt exists, skip downloading\n",
      "./data/raw_data\\USPTO_STEREO\\tgt-train.txt exists, skip downloading\n",
      "./data/raw_data\\USPTO_STEREO\\src-val.txt exists, skip downloading\n",
      "./data/raw_data\\USPTO_STEREO\\tgt-val.txt exists, skip downloading\n"
     ]
    },
    {
     "name": "stderr",
     "output_type": "stream",
     "text": [
      "Downloading...\n",
      "From: https://drive.google.com/uc?id=1FcbWZnyixhptaO6DIVjCjm_CeTomiCQJ\n",
      "To: C:\\Users\\Tim\\Documents\\GitHub\\selfiespredict\\data\\raw_data\\USPTO_STEREO\\src-test.txt\n",
      "100%|██████████| 7.64M/7.64M [00:01<00:00, 4.24MB/s]"
     ]
    },
    {
     "name": "stdout",
     "output_type": "stream",
     "text": [
      "./data/raw_data\\USPTO_STEREO\\tgt-test.txt exists, skip downloading\n"
     ]
    },
    {
     "name": "stderr",
     "output_type": "stream",
     "text": [
      "\n"
     ]
    }
   ],
   "source": [
    "test.import_data(\"USPTO_STEREO\")"
   ]
  },
  {
   "cell_type": "code",
   "execution_count": 3,
   "id": "bceee066",
   "metadata": {},
   "outputs": [],
   "source": [
    "test.gen_txt(\"USPTO_480k\")"
   ]
  }
 ],
 "metadata": {
  "kernelspec": {
   "display_name": "projekt2Env",
   "language": "python",
   "name": "projekt2env"
  },
  "language_info": {
   "codemirror_mode": {
    "name": "ipython",
    "version": 3
   },
   "file_extension": ".py",
   "mimetype": "text/x-python",
   "name": "python",
   "nbconvert_exporter": "python",
   "pygments_lexer": "ipython3",
   "version": "3.8.8"
  }
 },
 "nbformat": 4,
 "nbformat_minor": 5
}
