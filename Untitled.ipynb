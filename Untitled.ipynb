{
 "cells": [
  {
   "cell_type": "code",
   "execution_count": 1,
   "id": "96330242",
   "metadata": {},
   "outputs": [],
   "source": [
    "from selfiespredict.data.load_data import Data_Cleaner"
   ]
  },
  {
   "cell_type": "code",
   "execution_count": 4,
   "id": "57e0e90c-2217-413c-aacc-8d62faad5c1b",
   "metadata": {},
   "outputs": [],
   "source": [
    "import os"
   ]
  },
  {
   "cell_type": "code",
   "execution_count": 2,
   "id": "d67b80a0-be31-43a9-bb43-de4a737c2f02",
   "metadata": {
    "collapsed": true,
    "jupyter": {
     "outputs_hidden": true
    },
    "tags": []
   },
   "outputs": [
    {
     "name": "stdout",
     "output_type": "stream",
     "text": [
      "Collecting gdown\n",
      "  Using cached gdown-4.2.0.tar.gz (13 kB)\n",
      "  Installing build dependencies ... \u001b[?25ldone\n",
      "\u001b[?25h  Getting requirements to build wheel ... \u001b[?25ldone\n",
      "\u001b[?25h    Preparing wheel metadata ... \u001b[?25ldone\n",
      "\u001b[?25hCollecting beautifulsoup4\n",
      "  Downloading beautifulsoup4-4.10.0-py3-none-any.whl (97 kB)\n",
      "\u001b[K     |████████████████████████████████| 97 kB 2.2 MB/s eta 0:00:01\n",
      "\u001b[?25hRequirement already satisfied: tqdm in /Users/matthiaskellner/anaconda3/envs/testrdkit_env/lib/python3.8/site-packages (from gdown) (4.62.3)\n",
      "Requirement already satisfied: filelock in /Users/matthiaskellner/anaconda3/envs/testrdkit_env/lib/python3.8/site-packages (from gdown) (3.4.0)\n",
      "Requirement already satisfied: requests[socks] in /Users/matthiaskellner/anaconda3/envs/testrdkit_env/lib/python3.8/site-packages (from gdown) (2.26.0)\n",
      "Requirement already satisfied: six in /Users/matthiaskellner/anaconda3/envs/testrdkit_env/lib/python3.8/site-packages (from gdown) (1.15.0)\n",
      "Collecting soupsieve>1.2\n",
      "  Downloading soupsieve-2.3.1-py3-none-any.whl (37 kB)\n",
      "Requirement already satisfied: charset-normalizer~=2.0.0; python_version >= \"3\" in /Users/matthiaskellner/anaconda3/envs/testrdkit_env/lib/python3.8/site-packages (from requests[socks]->gdown) (2.0.7)\n",
      "Requirement already satisfied: certifi>=2017.4.17 in /Users/matthiaskellner/anaconda3/envs/testrdkit_env/lib/python3.8/site-packages (from requests[socks]->gdown) (2021.10.8)\n",
      "Requirement already satisfied: urllib3<1.27,>=1.21.1 in /Users/matthiaskellner/anaconda3/envs/testrdkit_env/lib/python3.8/site-packages (from requests[socks]->gdown) (1.26.7)\n",
      "Requirement already satisfied: idna<4,>=2.5; python_version >= \"3\" in /Users/matthiaskellner/anaconda3/envs/testrdkit_env/lib/python3.8/site-packages (from requests[socks]->gdown) (3.3)\n",
      "Collecting PySocks!=1.5.7,>=1.5.6; extra == \"socks\"\n",
      "  Downloading PySocks-1.7.1-py3-none-any.whl (16 kB)\n",
      "Building wheels for collected packages: gdown\n",
      "  Building wheel for gdown (PEP 517) ... \u001b[?25ldone\n",
      "\u001b[?25h  Created wheel for gdown: filename=gdown-4.2.0-py3-none-any.whl size=14262 sha256=3262e06376803300f24a0e98426fd6cfc4a2b6d589c18737cce4c17e1c7cfc1c\n",
      "  Stored in directory: /Users/matthiaskellner/Library/Caches/pip/wheels/2b/3c/51/52c46deda5cd1d59c6ce3d441ea5f3d155495dc294c4535a25\n",
      "Successfully built gdown\n",
      "Installing collected packages: soupsieve, beautifulsoup4, gdown, PySocks\n",
      "Successfully installed PySocks-1.7.1 beautifulsoup4-4.10.0 gdown-4.2.0 soupsieve-2.3.1\n",
      "Note: you may need to restart the kernel to use updated packages.\n"
     ]
    }
   ],
   "source": [
    "%pip install gdown"
   ]
  },
  {
   "cell_type": "code",
   "execution_count": 2,
   "id": "97b99b16",
   "metadata": {},
   "outputs": [],
   "source": [
    "test = Data_Cleaner()"
   ]
  },
  {
   "cell_type": "code",
   "execution_count": 3,
   "id": "6ec7ba34",
   "metadata": {},
   "outputs": [],
   "source": [
    "import selfiespredict"
   ]
  },
  {
   "cell_type": "code",
   "execution_count": null,
   "id": "ca9d4955-b1a5-4513-8b34-9a77191b37b1",
   "metadata": {},
   "outputs": [],
   "source": [
    "selfiespredict."
   ]
  },
  {
   "cell_type": "code",
   "execution_count": 3,
   "id": "4c7838f8",
   "metadata": {},
   "outputs": [
    {
     "name": "stdout",
     "output_type": "stream",
     "text": [
      "./data/raw_data\\USPTO_STEREO\\src-train.txt exists, skip downloading\n",
      "./data/raw_data\\USPTO_STEREO\\tgt-train.txt exists, skip downloading\n",
      "./data/raw_data\\USPTO_STEREO\\src-val.txt exists, skip downloading\n",
      "./data/raw_data\\USPTO_STEREO\\tgt-val.txt exists, skip downloading\n"
     ]
    },
    {
     "name": "stderr",
     "output_type": "stream",
     "text": [
      "Downloading...\n",
      "From: https://drive.google.com/uc?id=1FcbWZnyixhptaO6DIVjCjm_CeTomiCQJ\n",
      "To: C:\\Users\\Tim\\Documents\\GitHub\\selfiespredict\\data\\raw_data\\USPTO_STEREO\\src-test.txt\n",
      "100%|██████████| 7.64M/7.64M [00:01<00:00, 4.24MB/s]"
     ]
    },
    {
     "name": "stdout",
     "output_type": "stream",
     "text": [
      "./data/raw_data\\USPTO_STEREO\\tgt-test.txt exists, skip downloading\n"
     ]
    },
    {
     "name": "stderr",
     "output_type": "stream",
     "text": [
      "\n"
     ]
    }
   ],
   "source": [
    "test.import_data(\"USPTO_STEREO\")"
   ]
  },
  {
   "cell_type": "code",
   "execution_count": 3,
   "id": "bceee066",
   "metadata": {},
   "outputs": [],
   "source": [
    "test.gen_txt(\"USPTO_480k\")"
   ]
  }
 ],
 "metadata": {
  "kernelspec": {
   "display_name": "test_rdkit_env",
   "language": "python",
   "name": "test_rdkit_env"
  },
  "language_info": {
   "codemirror_mode": {
    "name": "ipython",
    "version": 3
   },
   "file_extension": ".py",
   "mimetype": "text/x-python",
   "name": "python",
   "nbconvert_exporter": "python",
   "pygments_lexer": "ipython3",
   "version": "3.8.5"
  }
 },
 "nbformat": 4,
 "nbformat_minor": 5
}
