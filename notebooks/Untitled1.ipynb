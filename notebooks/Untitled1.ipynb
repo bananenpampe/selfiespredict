{
 "cells": [
  {
   "cell_type": "code",
   "execution_count": 9,
   "id": "60f86e0e-5a82-4227-a103-c258823dd823",
   "metadata": {},
   "outputs": [],
   "source": [
    "import selfies as sf\n",
    "from rdkit import Chem\n",
    "from rdkit.Chem.Draw import IPythonConsole\n",
    "from rdkit.Chem import Draw\n",
    "IPythonConsole.ipython_useSVG=True"
   ]
  },
  {
   "cell_type": "code",
   "execution_count": 10,
   "id": "ec36ee12-2128-4ee2-9894-0db0be67416b",
   "metadata": {},
   "outputs": [],
   "source": [
    "paper_smiles = \"CNC(C)CC1=CC=C2C(=C1)OCO2\""
   ]
  },
  {
   "cell_type": "code",
   "execution_count": 11,
   "id": "f88a99ad-a31b-4eea-94fb-71b562f5f347",
   "metadata": {},
   "outputs": [],
   "source": [
    "mol = Chem.MolFromSmiles(paper_smiles)"
   ]
  },
  {
   "cell_type": "code",
   "execution_count": 12,
   "id": "b7250d8d-cb40-411d-bec8-eacbebb6178e",
   "metadata": {},
   "outputs": [
    {
     "data": {
      "image/png": "[encoded data removed]",
      "image/svg+xml": [
       "<?xml version='1.0' encoding='iso-8859-1'?>\n",
       "<svg version='1.1' baseProfile='full'\n",
       "              xmlns='http://www.w3.org/2000/svg'\n",
       "                      xmlns:rdkit='http://www.rdkit.org/xml'\n",
       "                      xmlns:xlink='http://www.w3.org/1999/xlink'\n",
       "                  xml:space='preserve'\n",
       "width='450px' height='150px' viewBox='0 0 450 150'>\n",
       "<!-- END OF HEADER -->\n",
       "<rect style='opacity:1.0;fill:#FFFFFF;stroke:none' width='450.0' height='150.0' x='0.0' y='0.0'> </rect>\n",
       "<path class='bond-0 atom-0 atom-1' d='M 321.6,143.2 L 310.0,129.6' style='fill:none;fill-rule:evenodd;stroke:#000000;stroke-width:2.0px;stroke-linecap:butt;stroke-linejoin:miter;stroke-opacity:1' />\n",
       "<path class='bond-0 atom-0 atom-1' d='M 310.0,129.6 L 298.4,116.0' style='fill:none;fill-rule:evenodd;stroke:#0000FF;stroke-width:2.0px;stroke-linecap:butt;stroke-linejoin:miter;stroke-opacity:1' />\n",
       "<path class='bond-1 atom-1 atom-2' d='M 295.1,101.6 L 301.2,84.2' style='fill:none;fill-rule:evenodd;stroke:#0000FF;stroke-width:2.0px;stroke-linecap:butt;stroke-linejoin:miter;stroke-opacity:1' />\n",
       "<path class='bond-1 atom-1 atom-2' d='M 301.2,84.2 L 307.4,66.8' style='fill:none;fill-rule:evenodd;stroke:#000000;stroke-width:2.0px;stroke-linecap:butt;stroke-linejoin:miter;stroke-opacity:1' />\n",
       "<path class='bond-2 atom-2 atom-3' d='M 307.4,66.8 L 351.5,58.5' style='fill:none;fill-rule:evenodd;stroke:#000000;stroke-width:2.0px;stroke-linecap:butt;stroke-linejoin:miter;stroke-opacity:1' />\n",
       "<path class='bond-3 atom-2 atom-4' d='M 307.4,66.8 L 278.2,32.7' style='fill:none;fill-rule:evenodd;stroke:#000000;stroke-width:2.0px;stroke-linecap:butt;stroke-linejoin:miter;stroke-opacity:1' />\n",
       "<path class='bond-4 atom-4 atom-5' d='M 278.2,32.7 L 234.0,40.9' style='fill:none;fill-rule:evenodd;stroke:#000000;stroke-width:2.0px;stroke-linecap:butt;stroke-linejoin:miter;stroke-opacity:1' />\n",
       "<path class='bond-5 atom-5 atom-6' d='M 234.0,40.9 L 204.8,6.8' style='fill:none;fill-rule:evenodd;stroke:#000000;stroke-width:2.0px;stroke-linecap:butt;stroke-linejoin:miter;stroke-opacity:1' />\n",
       "<path class='bond-5 atom-5 atom-6' d='M 222.8,41.6 L 202.4,17.8' style='fill:none;fill-rule:evenodd;stroke:#000000;stroke-width:2.0px;stroke-linecap:butt;stroke-linejoin:miter;stroke-opacity:1' />\n",
       "<path class='bond-13 atom-10 atom-5' d='M 219.1,83.2 L 234.0,40.9' style='fill:none;fill-rule:evenodd;stroke:#000000;stroke-width:2.0px;stroke-linecap:butt;stroke-linejoin:miter;stroke-opacity:1' />\n",
       "<path class='bond-6 atom-6 atom-7' d='M 204.8,6.8 L 160.7,15.1' style='fill:none;fill-rule:evenodd;stroke:#000000;stroke-width:2.0px;stroke-linecap:butt;stroke-linejoin:miter;stroke-opacity:1' />\n",
       "<path class='bond-7 atom-7 atom-8' d='M 160.7,15.1 L 145.8,57.4' style='fill:none;fill-rule:evenodd;stroke:#000000;stroke-width:2.0px;stroke-linecap:butt;stroke-linejoin:miter;stroke-opacity:1' />\n",
       "<path class='bond-7 atom-7 atom-8' d='M 166.9,24.4 L 156.5,54.0' style='fill:none;fill-rule:evenodd;stroke:#000000;stroke-width:2.0px;stroke-linecap:butt;stroke-linejoin:miter;stroke-opacity:1' />\n",
       "<path class='bond-8 atom-8 atom-9' d='M 145.8,57.4 L 175.0,91.5' style='fill:none;fill-rule:evenodd;stroke:#000000;stroke-width:2.0px;stroke-linecap:butt;stroke-linejoin:miter;stroke-opacity:1' />\n",
       "<path class='bond-14 atom-13 atom-8' d='M 111.3,71.7 L 128.6,64.6' style='fill:none;fill-rule:evenodd;stroke:#FF0000;stroke-width:2.0px;stroke-linecap:butt;stroke-linejoin:miter;stroke-opacity:1' />\n",
       "<path class='bond-14 atom-13 atom-8' d='M 128.6,64.6 L 145.8,57.4' style='fill:none;fill-rule:evenodd;stroke:#000000;stroke-width:2.0px;stroke-linecap:butt;stroke-linejoin:miter;stroke-opacity:1' />\n",
       "<path class='bond-9 atom-9 atom-10' d='M 175.0,91.5 L 219.1,83.2' style='fill:none;fill-rule:evenodd;stroke:#000000;stroke-width:2.0px;stroke-linecap:butt;stroke-linejoin:miter;stroke-opacity:1' />\n",
       "<path class='bond-9 atom-9 atom-10' d='M 180.0,81.4 L 210.8,75.7' style='fill:none;fill-rule:evenodd;stroke:#000000;stroke-width:2.0px;stroke-linecap:butt;stroke-linejoin:miter;stroke-opacity:1' />\n",
       "<path class='bond-10 atom-9 atom-11' d='M 175.0,91.5 L 165.6,106.9' style='fill:none;fill-rule:evenodd;stroke:#000000;stroke-width:2.0px;stroke-linecap:butt;stroke-linejoin:miter;stroke-opacity:1' />\n",
       "<path class='bond-10 atom-9 atom-11' d='M 165.6,106.9 L 156.2,122.2' style='fill:none;fill-rule:evenodd;stroke:#FF0000;stroke-width:2.0px;stroke-linecap:butt;stroke-linejoin:miter;stroke-opacity:1' />\n",
       "<path class='bond-11 atom-11 atom-12' d='M 144.6,128.1 L 126.3,123.7' style='fill:none;fill-rule:evenodd;stroke:#FF0000;stroke-width:2.0px;stroke-linecap:butt;stroke-linejoin:miter;stroke-opacity:1' />\n",
       "<path class='bond-11 atom-11 atom-12' d='M 126.3,123.7 L 107.9,119.4' style='fill:none;fill-rule:evenodd;stroke:#000000;stroke-width:2.0px;stroke-linecap:butt;stroke-linejoin:miter;stroke-opacity:1' />\n",
       "<path class='bond-12 atom-12 atom-13' d='M 107.9,119.4 L 106.5,100.9' style='fill:none;fill-rule:evenodd;stroke:#000000;stroke-width:2.0px;stroke-linecap:butt;stroke-linejoin:miter;stroke-opacity:1' />\n",
       "<path class='bond-12 atom-12 atom-13' d='M 106.5,100.9 L 105.0,82.4' style='fill:none;fill-rule:evenodd;stroke:#FF0000;stroke-width:2.0px;stroke-linecap:butt;stroke-linejoin:miter;stroke-opacity:1' />\n",
       "<path  class='atom-1' d='M 276.2 102.7\n",
       "L 277.9 102.7\n",
       "L 277.9 108.1\n",
       "L 284.4 108.1\n",
       "L 284.4 102.7\n",
       "L 286.1 102.7\n",
       "L 286.1 115.4\n",
       "L 284.4 115.4\n",
       "L 284.4 109.6\n",
       "L 277.9 109.6\n",
       "L 277.9 115.4\n",
       "L 276.2 115.4\n",
       "L 276.2 102.7\n",
       "' fill='#0000FF'/>\n",
       "<path  class='atom-1' d='M 289.6 102.7\n",
       "L 293.8 109.5\n",
       "Q 294.2 110.1, 294.9 111.3\n",
       "Q 295.5 112.5, 295.6 112.6\n",
       "L 295.6 102.7\n",
       "L 297.3 102.7\n",
       "L 297.3 115.4\n",
       "L 295.5 115.4\n",
       "L 291.0 108.1\n",
       "Q 290.5 107.2, 290.0 106.2\n",
       "Q 289.4 105.2, 289.3 104.9\n",
       "L 289.3 115.4\n",
       "L 287.6 115.4\n",
       "L 287.6 102.7\n",
       "L 289.6 102.7\n",
       "' fill='#0000FF'/>\n",
       "<path  class='atom-11' d='M 145.8 129.8\n",
       "Q 145.8 126.8, 147.3 125.1\n",
       "Q 148.8 123.4, 151.6 123.4\n",
       "Q 154.4 123.4, 155.9 125.1\n",
       "Q 157.4 126.8, 157.4 129.8\n",
       "Q 157.4 132.9, 155.9 134.7\n",
       "Q 154.4 136.4, 151.6 136.4\n",
       "Q 148.8 136.4, 147.3 134.7\n",
       "Q 145.8 132.9, 145.8 129.8\n",
       "M 151.6 135.0\n",
       "Q 153.5 135.0, 154.6 133.7\n",
       "Q 155.6 132.4, 155.6 129.8\n",
       "Q 155.6 127.3, 154.6 126.1\n",
       "Q 153.5 124.8, 151.6 124.8\n",
       "Q 149.7 124.8, 148.6 126.1\n",
       "Q 147.6 127.3, 147.6 129.8\n",
       "Q 147.6 132.4, 148.6 133.7\n",
       "Q 149.7 135.0, 151.6 135.0\n",
       "' fill='#FF0000'/>\n",
       "<path  class='atom-13' d='M 98.5 74.7\n",
       "Q 98.5 71.6, 100.0 69.9\n",
       "Q 101.5 68.2, 104.3 68.2\n",
       "Q 107.2 68.2, 108.7 69.9\n",
       "Q 110.2 71.6, 110.2 74.7\n",
       "Q 110.2 77.8, 108.7 79.5\n",
       "Q 107.1 81.3, 104.3 81.3\n",
       "Q 101.5 81.3, 100.0 79.5\n",
       "Q 98.5 77.8, 98.5 74.7\n",
       "M 104.3 79.8\n",
       "Q 106.3 79.8, 107.3 78.5\n",
       "Q 108.4 77.2, 108.4 74.7\n",
       "Q 108.4 72.2, 107.3 70.9\n",
       "Q 106.3 69.6, 104.3 69.6\n",
       "Q 102.4 69.6, 101.4 70.9\n",
       "Q 100.3 72.1, 100.3 74.7\n",
       "Q 100.3 77.2, 101.4 78.5\n",
       "Q 102.4 79.8, 104.3 79.8\n",
       "' fill='#FF0000'/>\n",
       "</svg>\n"
      ],
      "text/html": [
       "<?xml version='1.0' encoding='iso-8859-1'?>\n",
       "<svg version='1.1' baseProfile='full'\n",
       "              xmlns='http://www.w3.org/2000/svg'\n",
       "                      xmlns:rdkit='http://www.rdkit.org/xml'\n",
       "                      xmlns:xlink='http://www.w3.org/1999/xlink'\n",
       "                  xml:space='preserve'\n",
       "width='450px' height='150px' viewBox='0 0 450 150'>\n",
       "<!-- END OF HEADER -->\n",
       "<rect style='opacity:1.0;fill:#FFFFFF;stroke:none' width='450.0' height='150.0' x='0.0' y='0.0'> </rect>\n",
       "<path class='bond-0 atom-0 atom-1' d='M 321.6,143.2 L 310.0,129.6' style='fill:none;fill-rule:evenodd;stroke:#000000;stroke-width:2.0px;stroke-linecap:butt;stroke-linejoin:miter;stroke-opacity:1' />\n",
       "<path class='bond-0 atom-0 atom-1' d='M 310.0,129.6 L 298.4,116.0' style='fill:none;fill-rule:evenodd;stroke:#0000FF;stroke-width:2.0px;stroke-linecap:butt;stroke-linejoin:miter;stroke-opacity:1' />\n",
       "<path class='bond-1 atom-1 atom-2' d='M 295.1,101.6 L 301.2,84.2' style='fill:none;fill-rule:evenodd;stroke:#0000FF;stroke-width:2.0px;stroke-linecap:butt;stroke-linejoin:miter;stroke-opacity:1' />\n",
       "<path class='bond-1 atom-1 atom-2' d='M 301.2,84.2 L 307.4,66.8' style='fill:none;fill-rule:evenodd;stroke:#000000;stroke-width:2.0px;stroke-linecap:butt;stroke-linejoin:miter;stroke-opacity:1' />\n",
       "<path class='bond-2 atom-2 atom-3' d='M 307.4,66.8 L 351.5,58.5' style='fill:none;fill-rule:evenodd;stroke:#000000;stroke-width:2.0px;stroke-linecap:butt;stroke-linejoin:miter;stroke-opacity:1' />\n",
       "<path class='bond-3 atom-2 atom-4' d='M 307.4,66.8 L 278.2,32.7' style='fill:none;fill-rule:evenodd;stroke:#000000;stroke-width:2.0px;stroke-linecap:butt;stroke-linejoin:miter;stroke-opacity:1' />\n",
       "<path class='bond-4 atom-4 atom-5' d='M 278.2,32.7 L 234.0,40.9' style='fill:none;fill-rule:evenodd;stroke:#000000;stroke-width:2.0px;stroke-linecap:butt;stroke-linejoin:miter;stroke-opacity:1' />\n",
       "<path class='bond-5 atom-5 atom-6' d='M 234.0,40.9 L 204.8,6.8' style='fill:none;fill-rule:evenodd;stroke:#000000;stroke-width:2.0px;stroke-linecap:butt;stroke-linejoin:miter;stroke-opacity:1' />\n",
       "<path class='bond-5 atom-5 atom-6' d='M 222.8,41.6 L 202.4,17.8' style='fill:none;fill-rule:evenodd;stroke:#000000;stroke-width:2.0px;stroke-linecap:butt;stroke-linejoin:miter;stroke-opacity:1' />\n",
       "<path class='bond-13 atom-10 atom-5' d='M 219.1,83.2 L 234.0,40.9' style='fill:none;fill-rule:evenodd;stroke:#000000;stroke-width:2.0px;stroke-linecap:butt;stroke-linejoin:miter;stroke-opacity:1' />\n",
       "<path class='bond-6 atom-6 atom-7' d='M 204.8,6.8 L 160.7,15.1' style='fill:none;fill-rule:evenodd;stroke:#000000;stroke-width:2.0px;stroke-linecap:butt;stroke-linejoin:miter;stroke-opacity:1' />\n",
       "<path class='bond-7 atom-7 atom-8' d='M 160.7,15.1 L 145.8,57.4' style='fill:none;fill-rule:evenodd;stroke:#000000;stroke-width:2.0px;stroke-linecap:butt;stroke-linejoin:miter;stroke-opacity:1' />\n",
       "<path class='bond-7 atom-7 atom-8' d='M 166.9,24.4 L 156.5,54.0' style='fill:none;fill-rule:evenodd;stroke:#000000;stroke-width:2.0px;stroke-linecap:butt;stroke-linejoin:miter;stroke-opacity:1' />\n",
       "<path class='bond-8 atom-8 atom-9' d='M 145.8,57.4 L 175.0,91.5' style='fill:none;fill-rule:evenodd;stroke:#000000;stroke-width:2.0px;stroke-linecap:butt;stroke-linejoin:miter;stroke-opacity:1' />\n",
       "<path class='bond-14 atom-13 atom-8' d='M 111.3,71.7 L 128.6,64.6' style='fill:none;fill-rule:evenodd;stroke:#FF0000;stroke-width:2.0px;stroke-linecap:butt;stroke-linejoin:miter;stroke-opacity:1' />\n",
       "<path class='bond-14 atom-13 atom-8' d='M 128.6,64.6 L 145.8,57.4' style='fill:none;fill-rule:evenodd;stroke:#000000;stroke-width:2.0px;stroke-linecap:butt;stroke-linejoin:miter;stroke-opacity:1' />\n",
       "<path class='bond-9 atom-9 atom-10' d='M 175.0,91.5 L 219.1,83.2' style='fill:none;fill-rule:evenodd;stroke:#000000;stroke-width:2.0px;stroke-linecap:butt;stroke-linejoin:miter;stroke-opacity:1' />\n",
       "<path class='bond-9 atom-9 atom-10' d='M 180.0,81.4 L 210.8,75.7' style='fill:none;fill-rule:evenodd;stroke:#000000;stroke-width:2.0px;stroke-linecap:butt;stroke-linejoin:miter;stroke-opacity:1' />\n",
       "<path class='bond-10 atom-9 atom-11' d='M 175.0,91.5 L 165.6,106.9' style='fill:none;fill-rule:evenodd;stroke:#000000;stroke-width:2.0px;stroke-linecap:butt;stroke-linejoin:miter;stroke-opacity:1' />\n",
       "<path class='bond-10 atom-9 atom-11' d='M 165.6,106.9 L 156.2,122.2' style='fill:none;fill-rule:evenodd;stroke:#FF0000;stroke-width:2.0px;stroke-linecap:butt;stroke-linejoin:miter;stroke-opacity:1' />\n",
       "<path class='bond-11 atom-11 atom-12' d='M 144.6,128.1 L 126.3,123.7' style='fill:none;fill-rule:evenodd;stroke:#FF0000;stroke-width:2.0px;stroke-linecap:butt;stroke-linejoin:miter;stroke-opacity:1' />\n",
       "<path class='bond-11 atom-11 atom-12' d='M 126.3,123.7 L 107.9,119.4' style='fill:none;fill-rule:evenodd;stroke:#000000;stroke-width:2.0px;stroke-linecap:butt;stroke-linejoin:miter;stroke-opacity:1' />\n",
       "<path class='bond-12 atom-12 atom-13' d='M 107.9,119.4 L 106.5,100.9' style='fill:none;fill-rule:evenodd;stroke:#000000;stroke-width:2.0px;stroke-linecap:butt;stroke-linejoin:miter;stroke-opacity:1' />\n",
       "<path class='bond-12 atom-12 atom-13' d='M 106.5,100.9 L 105.0,82.4' style='fill:none;fill-rule:evenodd;stroke:#FF0000;stroke-width:2.0px;stroke-linecap:butt;stroke-linejoin:miter;stroke-opacity:1' />\n",
       "<path  class='atom-1' d='M 276.2 102.7\n",
       "L 277.9 102.7\n",
       "L 277.9 108.1\n",
       "L 284.4 108.1\n",
       "L 284.4 102.7\n",
       "L 286.1 102.7\n",
       "L 286.1 115.4\n",
       "L 284.4 115.4\n",
       "L 284.4 109.6\n",
       "L 277.9 109.6\n",
       "L 277.9 115.4\n",
       "L 276.2 115.4\n",
       "L 276.2 102.7\n",
       "' fill='#0000FF'/>\n",
       "<path  class='atom-1' d='M 289.6 102.7\n",
       "L 293.8 109.5\n",
       "Q 294.2 110.1, 294.9 111.3\n",
       "Q 295.5 112.5, 295.6 112.6\n",
       "L 295.6 102.7\n",
       "L 297.3 102.7\n",
       "L 297.3 115.4\n",
       "L 295.5 115.4\n",
       "L 291.0 108.1\n",
       "Q 290.5 107.2, 290.0 106.2\n",
       "Q 289.4 105.2, 289.3 104.9\n",
       "L 289.3 115.4\n",
       "L 287.6 115.4\n",
       "L 287.6 102.7\n",
       "L 289.6 102.7\n",
       "' fill='#0000FF'/>\n",
       "<path  class='atom-11' d='M 145.8 129.8\n",
       "Q 145.8 126.8, 147.3 125.1\n",
       "Q 148.8 123.4, 151.6 123.4\n",
       "Q 154.4 123.4, 155.9 125.1\n",
       "Q 157.4 126.8, 157.4 129.8\n",
       "Q 157.4 132.9, 155.9 134.7\n",
       "Q 154.4 136.4, 151.6 136.4\n",
       "Q 148.8 136.4, 147.3 134.7\n",
       "Q 145.8 132.9, 145.8 129.8\n",
       "M 151.6 135.0\n",
       "Q 153.5 135.0, 154.6 133.7\n",
       "Q 155.6 132.4, 155.6 129.8\n",
       "Q 155.6 127.3, 154.6 126.1\n",
       "Q 153.5 124.8, 151.6 124.8\n",
       "Q 149.7 124.8, 148.6 126.1\n",
       "Q 147.6 127.3, 147.6 129.8\n",
       "Q 147.6 132.4, 148.6 133.7\n",
       "Q 149.7 135.0, 151.6 135.0\n",
       "' fill='#FF0000'/>\n",
       "<path  class='atom-13' d='M 98.5 74.7\n",
       "Q 98.5 71.6, 100.0 69.9\n",
       "Q 101.5 68.2, 104.3 68.2\n",
       "Q 107.2 68.2, 108.7 69.9\n",
       "Q 110.2 71.6, 110.2 74.7\n",
       "Q 110.2 77.8, 108.7 79.5\n",
       "Q 107.1 81.3, 104.3 81.3\n",
       "Q 101.5 81.3, 100.0 79.5\n",
       "Q 98.5 77.8, 98.5 74.7\n",
       "M 104.3 79.8\n",
       "Q 106.3 79.8, 107.3 78.5\n",
       "Q 108.4 77.2, 108.4 74.7\n",
       "Q 108.4 72.2, 107.3 70.9\n",
       "Q 106.3 69.6, 104.3 69.6\n",
       "Q 102.4 69.6, 101.4 70.9\n",
       "Q 100.3 72.1, 100.3 74.7\n",
       "Q 100.3 77.2, 101.4 78.5\n",
       "Q 102.4 79.8, 104.3 79.8\n",
       "' fill='#FF0000'/>\n",
       "</svg>\n"
      ],
      "text/plain": [
       "<rdkit.Chem.rdchem.Mol at 0x7fab34f9e6c0>"
      ]
     },
     "execution_count": 12,
     "metadata": {},
     "output_type": "execute_result"
    }
   ],
   "source": [
    "mol"
   ]
  },
  {
   "cell_type": "code",
   "execution_count": 14,
   "id": "3e974d2c-e944-4d67-8a97-9ae1f4871fb1",
   "metadata": {},
   "outputs": [],
   "source": [
    "#better use Chem.c\n",
    "#one canonical is not alway another canonical: https://github.com/rdkit/rdkit/issues/2747\n",
    "\n",
    "def return_canonical(smiles):\n",
    "    return Chem.MolToSmiles(Chem.MolFromSmiles(smiles))"
   ]
  },
  {
   "cell_type": "code",
   "execution_count": 15,
   "id": "31f12280-0e69-41f1-ab20-1f3c108efe77",
   "metadata": {},
   "outputs": [
    {
     "data": {
      "text/plain": [
       "'CNC(C)Cc1ccc2c(c1)OCO2'"
      ]
     },
     "execution_count": 15,
     "metadata": {},
     "output_type": "execute_result"
    }
   ],
   "source": [
    "return_canonical(paper_smiles)"
   ]
  },
  {
   "cell_type": "code",
   "execution_count": 16,
   "id": "95325782-d852-472d-b6ad-4461007fac18",
   "metadata": {},
   "outputs": [
    {
     "data": {
      "text/plain": [
       "'[C][N][C][Branch1][C][C][C][C][=C][C][=C][C][=Branch1][Ring2][=C][Ring1][=Branch1][O][C][O][Ring1][=Branch1]'"
      ]
     },
     "execution_count": 16,
     "metadata": {},
     "output_type": "execute_result"
    }
   ],
   "source": [
    "sf.encoder(return_canonical(paper_smiles))"
   ]
  },
  {
   "cell_type": "code",
   "execution_count": 17,
   "id": "ee277d05-8b2c-4330-8c8f-bcd33a2e5b39",
   "metadata": {},
   "outputs": [
    {
     "data": {
      "text/plain": [
       "'[C][N][C][Branch1][C][C][C][C][=C][C][=C][C][=Branch1][Ring2][=C][Ring1][=Branch1][O][C][O][Ring1][=Branch1]'"
      ]
     },
     "execution_count": 17,
     "metadata": {},
     "output_type": "execute_result"
    }
   ],
   "source": [
    "sf.encoder(paper_smiles)"
   ]
  },
  {
   "cell_type": "markdown",
   "id": "8c894871-2d2d-49d2-b222-5e053c532382",
   "metadata": {},
   "source": [
    "Both canonical and non-canonical smiles yield the same SELFIE"
   ]
  },
  {
   "cell_type": "code",
   "execution_count": 18,
   "id": "17b903a1-3603-4e9d-99c7-31998f8001db",
   "metadata": {},
   "outputs": [
    {
     "data": {
      "text/plain": [
       "'CNC(C)CC1=CC=C2C(=C1)OCO2'"
      ]
     },
     "execution_count": 18,
     "metadata": {},
     "output_type": "execute_result"
    }
   ],
   "source": [
    "sf.decoder(sf.encoder(paper_smiles))"
   ]
  },
  {
   "cell_type": "code",
   "execution_count": 19,
   "id": "1b9ed002-0857-4cd0-8d5e-0b901a0a9f40",
   "metadata": {},
   "outputs": [
    {
     "data": {
      "text/plain": [
       "'CNC(C)Cc1ccc2c(c1)OCO2'"
      ]
     },
     "execution_count": 19,
     "metadata": {},
     "output_type": "execute_result"
    }
   ],
   "source": [
    "return_canonical(sf.decoder(sf.encoder(return_canonical(paper_smiles)))) #this should be canonical"
   ]
  },
  {
   "cell_type": "code",
   "execution_count": 1,
   "id": "b818e327-6ec0-4558-9fda-89d909852eb5",
   "metadata": {},
   "outputs": [],
   "source": [
    "from selfiespredict import data"
   ]
  },
  {
   "cell_type": "code",
   "execution_count": 3,
   "id": "00ddc995-671e-4a77-a9ae-ab08a00caa65",
   "metadata": {},
   "outputs": [
    {
     "ename": "AttributeError",
     "evalue": "module 'selfiespredict.data' has no attribute 'Data_Cleaner'",
     "output_type": "error",
     "traceback": [
      "\u001b[0;31m---------------------------------------------------------------------------\u001b[0m",
      "\u001b[0;31mAttributeError\u001b[0m                            Traceback (most recent call last)",
      "\u001b[0;32m<ipython-input-3-b26f95af85da>\u001b[0m in \u001b[0;36m<module>\u001b[0;34m\u001b[0m\n\u001b[0;32m----> 1\u001b[0;31m \u001b[0mcleaner\u001b[0m \u001b[0;34m=\u001b[0m \u001b[0mdata\u001b[0m\u001b[0;34m.\u001b[0m\u001b[0mData_Cleaner\u001b[0m\u001b[0;34m(\u001b[0m\u001b[0;34m)\u001b[0m\u001b[0;34m\u001b[0m\u001b[0;34m\u001b[0m\u001b[0m\n\u001b[0m",
      "\u001b[0;31mAttributeError\u001b[0m: module 'selfiespredict.data' has no attribute 'Data_Cleaner'"
     ]
    }
   ],
   "source": [
    "cleaner = data.Data_Cleaner(\"..)"
   ]
  },
  {
   "cell_type": "code",
   "execution_count": null,
   "id": "e21baea3-e4d1-40fa-8625-99d6212362eb",
   "metadata": {},
   "outputs": [],
   "source": []
  }
 ],
 "metadata": {
  "kernelspec": {
   "display_name": "test_rdkit_env",
   "language": "python",
   "name": "test_rdkit_env"
  },
  "language_info": {
   "codemirror_mode": {
    "name": "ipython",
    "version": 3
   },
   "file_extension": ".py",
   "mimetype": "text/x-python",
   "name": "python",
   "nbconvert_exporter": "python",
   "pygments_lexer": "ipython3",
   "version": "3.8.5"
  }
 },
 "nbformat": 4,
 "nbformat_minor": 5
}
