{
 "cells": [
  {
   "cell_type": "code",
   "execution_count": 6,
   "id": "67bd5ec4-c50f-4154-9db5-5749992b439a",
   "metadata": {},
   "outputs": [],
   "source": [
    "from selfiespredict.helpers import Helper_functions"
   ]
  },
  {
   "cell_type": "code",
   "execution_count": 5,
   "id": "e387ead1-5a15-44c4-a1a8-80d2b594d50e",
   "metadata": {},
   "outputs": [],
   "source": [
    "%config IPCompleter.use_jedi = False"
   ]
  },
  {
   "cell_type": "code",
   "execution_count": 10,
   "id": "e36f18cb-fd58-43ee-be9c-2808ad3f413a",
   "metadata": {},
   "outputs": [
    {
     "data": {
      "text/plain": [
       "'O = I ( O ) ( O ) ( O ) ( O ) O'"
      ]
     },
     "execution_count": 10,
     "metadata": {},
     "output_type": "execute_result"
    }
   ],
   "source": [
    "Helper_functions.smi_tokenizer(\"O=I(O)(O)(O)(O)O\")"
   ]
  },
  {
   "cell_type": "code",
   "execution_count": 41,
   "id": "3fc3696f-27ec-428b-8997-c751a6beef84",
   "metadata": {},
   "outputs": [],
   "source": [
    "def smi_tokenizer_debug(smi):\n",
    "    \"\"\"\n",
    "    Tokenize a SMILES molecule or reaction\n",
    "    \"\"\"\n",
    "    import re\n",
    "    pattern =  \"(\\[[^\\]]+]|Br?|Cl?|=Branch?|Ring?|#Branch?|Na?|N|O|S|P|F|I|b|c|n|o|s|p|\\(|\\)|\\.|=|#|-|\\+|\\\\\\\\|\\/|:|~|@|\\?|>|\\*|\\$|\\%[0-9]{2}|[0-9])\"\n",
    "    regex = re.compile(pattern)\n",
    "    tokens = [token for token in regex.findall(smi)]\n",
    "    assert smi == ''.join(tokens)\n",
    "    return ' '.join(tokens)"
   ]
  },
  {
   "cell_type": "code",
   "execution_count": 42,
   "id": "455be6d9-17d4-43b7-9f5b-9106d50591ad",
   "metadata": {},
   "outputs": [
    {
     "data": {
      "text/plain": [
       "'O = I ( O ) ( O ) ( O ) ( O ) O'"
      ]
     },
     "execution_count": 42,
     "metadata": {},
     "output_type": "execute_result"
    }
   ],
   "source": [
    "smi_tokenizer_debug(\"O=I(O)(O)(O)(O)O\")"
   ]
  },
  {
   "cell_type": "code",
   "execution_count": 44,
   "id": "cd7e66ec-f944-40a7-8337-13f5d204485a",
   "metadata": {
    "collapsed": true,
    "jupyter": {
     "outputs_hidden": true
    },
    "tags": []
   },
   "outputs": [
    {
     "ename": "AssertionError",
     "evalue": "",
     "output_type": "error",
     "traceback": [
      "\u001b[0;31m---------------------------------------------------------------------------\u001b[0m",
      "\u001b[0;31mAssertionError\u001b[0m                            Traceback (most recent call last)",
      "\u001b[0;32m<ipython-input-44-e2f3f8eca7a0>\u001b[0m in \u001b[0;36m<module>\u001b[0;34m\u001b[0m\n\u001b[0;32m----> 1\u001b[0;31m \u001b[0msmi_tokenizer_debug\u001b[0m\u001b[0;34m(\u001b[0m\u001b[0;34m\"=PH1\"\u001b[0m\u001b[0;34m)\u001b[0m\u001b[0;34m\u001b[0m\u001b[0;34m\u001b[0m\u001b[0m\n\u001b[0m",
      "\u001b[0;32m<ipython-input-41-c4c68d64d664>\u001b[0m in \u001b[0;36msmi_tokenizer_debug\u001b[0;34m(smi)\u001b[0m\n\u001b[1;32m      7\u001b[0m     \u001b[0mregex\u001b[0m \u001b[0;34m=\u001b[0m \u001b[0mre\u001b[0m\u001b[0;34m.\u001b[0m\u001b[0mcompile\u001b[0m\u001b[0;34m(\u001b[0m\u001b[0mpattern\u001b[0m\u001b[0;34m)\u001b[0m\u001b[0;34m\u001b[0m\u001b[0;34m\u001b[0m\u001b[0m\n\u001b[1;32m      8\u001b[0m     \u001b[0mtokens\u001b[0m \u001b[0;34m=\u001b[0m \u001b[0;34m[\u001b[0m\u001b[0mtoken\u001b[0m \u001b[0;32mfor\u001b[0m \u001b[0mtoken\u001b[0m \u001b[0;32min\u001b[0m \u001b[0mregex\u001b[0m\u001b[0;34m.\u001b[0m\u001b[0mfindall\u001b[0m\u001b[0;34m(\u001b[0m\u001b[0msmi\u001b[0m\u001b[0;34m)\u001b[0m\u001b[0;34m]\u001b[0m\u001b[0;34m\u001b[0m\u001b[0;34m\u001b[0m\u001b[0m\n\u001b[0;32m----> 9\u001b[0;31m     \u001b[0;32massert\u001b[0m \u001b[0msmi\u001b[0m \u001b[0;34m==\u001b[0m \u001b[0;34m''\u001b[0m\u001b[0;34m.\u001b[0m\u001b[0mjoin\u001b[0m\u001b[0;34m(\u001b[0m\u001b[0mtokens\u001b[0m\u001b[0;34m)\u001b[0m\u001b[0;34m\u001b[0m\u001b[0;34m\u001b[0m\u001b[0m\n\u001b[0m\u001b[1;32m     10\u001b[0m     \u001b[0;32mreturn\u001b[0m \u001b[0;34m' '\u001b[0m\u001b[0;34m.\u001b[0m\u001b[0mjoin\u001b[0m\u001b[0;34m(\u001b[0m\u001b[0mtokens\u001b[0m\u001b[0;34m)\u001b[0m\u001b[0;34m\u001b[0m\u001b[0;34m\u001b[0m\u001b[0m\n",
      "\u001b[0;31mAssertionError\u001b[0m: "
     ]
    }
   ],
   "source": [
    "smi_tokenizer_debug(\"=PH1\")"
   ]
  },
  {
   "cell_type": "code",
   "execution_count": 13,
   "id": "de7a59c4-756d-4b6e-8930-0c8c7bbf0f21",
   "metadata": {},
   "outputs": [],
   "source": [
    "import re"
   ]
  },
  {
   "cell_type": "code",
   "execution_count": 47,
   "id": "8a2de4fd-1b29-4d26-b1b3-2c89ad35eb51",
   "metadata": {
    "tags": []
   },
   "outputs": [
    {
     "name": "stdout",
     "output_type": "stream",
     "text": [
      "['C']\n",
      "['=', 'C']\n",
      "['Branch', '1']\n",
      "['Ring', '1']\n",
      "['O']\n",
      "['=', 'Branch', '1']\n",
      "['N']\n",
      "['.']\n",
      "['=', 'O']\n",
      "['Ring', '2']\n",
      "['Branch', '2']\n",
      "['=', 'N']\n",
      "['F']\n",
      "['Cl']\n",
      "['=', 'Branch', '2']\n",
      "['#', 'Branch', '1']\n",
      "['S']\n",
      "['#', 'Branch', '2']\n",
      "['O', '-', '1']\n",
      "['#', 'C']\n",
      "['Br']\n",
      "['P']\n",
      "['Na', '+', '1']\n",
      "['NH', '1']\n",
      "['=', 'Ring', '1']\n",
      "['K', '+', '1']\n",
      "['#', 'N']\n",
      "['N', '+', '1']\n",
      "['OH', '1', '-', '1']\n",
      "['=', 'S']\n",
      "['H', '-', '1']\n",
      "['I']\n",
      "['=', 'N', '+', '1']\n",
      "['Cl', '-', '1']\n",
      "['Si']\n",
      "['PH', '1']\n",
      "['B']\n",
      "['Li', '+', '1']\n",
      "['Pd']\n",
      "['H']\n",
      "['=', 'Ring', '2']\n",
      "['NH', '4', '+', '1']\n",
      "['Cs', '+', '1']\n",
      "['BH', '4', '-', '1']\n",
      "['Li']\n",
      "['N', '-', '1']\n",
      "['I', '-', '1']\n",
      "['Br', '-', '1']\n",
      "['Al', '+', '3']\n",
      "['=', 'P']\n",
      "['Cu']\n",
      "['=', 'N', '-', '1']\n",
      "['P', '-', '1']\n",
      "['Na']\n",
      "['Mg', '+', '1']\n",
      "['Pd', '+', '2']\n",
      "['SiH', '1']\n",
      "['Sn']\n",
      "['BH', '1', '-', '1']\n",
      "['Zn']\n",
      "['BH', '3', '-', '1']\n",
      "['F', '-', '1']\n",
      "['Fe']\n",
      "['K']\n",
      "['C', '-', '1']\n",
      "['P', '+', '1']\n",
      "['Mg']\n",
      "['Al']\n",
      "['Zn', '+', '2']\n",
      "['=', 'NH', '1', '+', '1']\n",
      "['Al', '+', '1']\n",
      "['=', 'Cr']\n",
      "['Cu', '+', '2']\n",
      "['B', '-', '1']\n",
      "['S', '-', '1']\n",
      "['=', 'Mn']\n",
      "['Mg', '+', '2']\n",
      "['I', '+', '3']\n",
      "['NH', '2', '+', '1']\n",
      "['Cl', '+', '1']\n",
      "['Ti', '+', '4']\n",
      "['Zn', '+', '1']\n",
      "['Se']\n",
      "['=', 'Pt']\n",
      "['SH', '1']\n",
      "['Ca', '+', '2']\n",
      "['=', 'Se']\n",
      "['NH', '1', '-', '1']\n",
      "['S', '+', '1']\n",
      "['SnH', '1']\n",
      "['AlH', '1']\n",
      "['Ba', '+', '2']\n",
      "['Co']\n",
      "['=', 'NH', '2', '+', '1']\n",
      "['=', 'O', '+', '1']\n",
      "['Pb']\n",
      "['NH', '1', '+', '1']\n",
      "['SH', '1', '-', '1']\n",
      "['=', 'Ag']\n",
      "['=', 'Ru']\n",
      "['Ce', '+', '3']\n",
      "['Ce']\n",
      "['O', '+', '1']\n",
      "['Cl', '+', '3']\n",
      "['KH', '1']\n",
      "['NH', '2', '-', '1']\n",
      "['Cr']\n",
      "['Cu', '+', '1']\n",
      "['=', 'SiH', '2']\n",
      "['#', 'C', '-', '1']\n",
      "['Hg']\n",
      "['Xe']\n",
      "['=', 'PH', '1']\n",
      "['Rh', '+', '1']\n",
      "['=', 'PH', '2']\n",
      "['B', '+', '3']\n",
      "['=', 'IH', '2']\n",
      "['=', 'Hg']\n",
      "['Pd', '-', '2']\n",
      "['Mn', '+', '2']\n",
      "['Ti', '+', '3']\n",
      "['SiH', '3']\n",
      "['Zr', '+', '2']\n",
      "['B', '+', '1']\n",
      "['Ag', '+', '1']\n",
      "['Si', '-', '1']\n",
      "['=', 'SH', '1']\n",
      "['CH', '1', '-', '1']\n",
      "['Sb']\n",
      "['As']\n",
      "['=', 'Os']\n",
      "['CH', '3']\n",
      "['Yb', '+', '3']\n",
      "['Ce', '+', '4']\n",
      "['AlH', '4', '-', '1']\n",
      "['Rh']\n",
      "['Nd', '+', '3']\n",
      "['PH', '4', '+', '1']\n",
      "['Ni']\n",
      "['Fe', '+', '2']\n",
      "['Sc', '+', '3']\n",
      "['Zr', '+', '1']\n"
     ]
    }
   ],
   "source": [
    "with open(\"example.vocab.src\",\"r\") as fg:\n",
    "    for line in fg:\n",
    "        a = line.split()\n",
    "        b = list(filter(None, re.split('(\\W|\\d)',a[0])))\n",
    "        print(b)\n",
    "        if a[0] != \"\".join(b):\n",
    "            print(a)"
   ]
  },
  {
   "cell_type": "code",
   "execution_count": 35,
   "id": "0f3f2a77-5328-4fe4-9292-500b0ced9ca2",
   "metadata": {},
   "outputs": [],
   "source": [
    "str_list = list(filter(None, re.split('(\\W|\\d)', '#Branch2')))"
   ]
  },
  {
   "cell_type": "code",
   "execution_count": 42,
   "id": "89fb0a7f-c413-4db6-b03a-2a4c2321282f",
   "metadata": {},
   "outputs": [
    {
     "data": {
      "text/plain": [
       "'#Branch2'"
      ]
     },
     "execution_count": 42,
     "metadata": {},
     "output_type": "execute_result"
    }
   ],
   "source": [
    "\"\".join(str_list)"
   ]
  },
  {
   "cell_type": "code",
   "execution_count": 45,
   "id": "586e3dce-5658-4199-be6f-5174e9056d8f",
   "metadata": {},
   "outputs": [],
   "source": [
    "import selfies"
   ]
  },
  {
   "cell_type": "code",
   "execution_count": 46,
   "id": "de911093-a091-4241-a6fd-e38a9162a6eb",
   "metadata": {},
   "outputs": [
    {
     "name": "stdout",
     "output_type": "stream",
     "text": [
      "Collecting periodictable\n",
      "  Downloading periodictable-1.6.0.tar.gz (686 kB)\n",
      "\u001b[K     |████████████████████████████████| 686 kB 1.3 MB/s eta 0:00:01\n",
      "\u001b[?25hRequirement already satisfied: pyparsing in /Users/matthiaskellner/anaconda3/lib/python3.7/site-packages (from periodictable) (3.0.4)\n",
      "Requirement already satisfied: numpy in /Users/matthiaskellner/anaconda3/lib/python3.7/site-packages (from periodictable) (1.21.2)\n",
      "Building wheels for collected packages: periodictable\n",
      "  Building wheel for periodictable (setup.py) ... \u001b[?25ldone\n",
      "\u001b[?25h  Created wheel for periodictable: filename=periodictable-1.6.0-py3-none-any.whl size=749751 sha256=a710823055a34a02e91565a575aee860f55f402f4066a36873c7c0d2768f26c6\n",
      "  Stored in directory: /Users/matthiaskellner/Library/Caches/pip/wheels/31/d2/e0/764db3104c74c9d991315dc39d1647012d38d9e76851bb16ae\n",
      "Successfully built periodictable\n",
      "Installing collected packages: periodictable\n",
      "Successfully installed periodictable-1.6.0\n"
     ]
    }
   ],
   "source": [
    "! pip install periodictable"
   ]
  },
  {
   "cell_type": "code",
   "execution_count": 1,
   "id": "afb9e9b8-25ea-410a-a357-2d204b7c5564",
   "metadata": {},
   "outputs": [],
   "source": [
    "import periodictable"
   ]
  },
  {
   "cell_type": "code",
   "execution_count": 10,
   "id": "be59fc82-6b4a-43ed-81c0-c03412cd1360",
   "metadata": {},
   "outputs": [
    {
     "data": {
      "text/plain": [
       "'n'"
      ]
     },
     "execution_count": 10,
     "metadata": {},
     "output_type": "execute_result"
    }
   ],
   "source": [
    "elements = [str(el) for el in periodictable.elements]\n",
    "elements.pop(0)"
   ]
  },
  {
   "cell_type": "code",
   "execution_count": 12,
   "id": "3b7e0f1c-d59b-4ab7-995e-563d498d3d45",
   "metadata": {},
   "outputs": [
    {
     "data": {
      "text/plain": [
       "'H?|He?|Li?|Be?|B?|C?|N?|O?|F?|Ne?|Na?|Mg?|Al?|Si?|P?|S?|Cl?|Ar?|K?|Ca?|Sc?|Ti?|V?|Cr?|Mn?|Fe?|Co?|Ni?|Cu?|Zn?|Ga?|Ge?|As?|Se?|Br?|Kr?|Rb?|Sr?|Y?|Zr?|Nb?|Mo?|Tc?|Ru?|Rh?|Pd?|Ag?|Cd?|In?|Sn?|Sb?|Te?|I?|Xe?|Cs?|Ba?|La?|Ce?|Pr?|Nd?|Pm?|Sm?|Eu?|Gd?|Tb?|Dy?|Ho?|Er?|Tm?|Yb?|Lu?|Hf?|Ta?|W?|Re?|Os?|Ir?|Pt?|Au?|Hg?|Tl?|Pb?|Bi?|Po?|At?|Rn?|Fr?|Ra?|Ac?|Th?|Pa?|U?|Np?|Pu?|Am?|Cm?|Bk?|Cf?|Es?|Fm?|Md?|No?|Lr?|Rf?|Db?|Sg?|Bh?|Hs?|Mt?|Ds?|Rg?|Cn?|Nh?|Fl?|Mc?|Lv?|Ts?|Og'"
      ]
     },
     "execution_count": 12,
     "metadata": {},
     "output_type": "execute_result"
    }
   ],
   "source": [
    "\"?|\".join(elements)"
   ]
  },
  {
   "cell_type": "code",
   "execution_count": 9,
   "id": "01107429-590e-431c-b268-272a9a1c001b",
   "metadata": {},
   "outputs": [
    {
     "data": {
      "text/plain": [
       "[H,\n",
       " He,\n",
       " Li,\n",
       " Be,\n",
       " B,\n",
       " C,\n",
       " N,\n",
       " O,\n",
       " F,\n",
       " Ne,\n",
       " Na,\n",
       " Mg,\n",
       " Al,\n",
       " Si,\n",
       " P,\n",
       " S,\n",
       " Cl,\n",
       " Ar,\n",
       " K,\n",
       " Ca,\n",
       " Sc,\n",
       " Ti,\n",
       " V,\n",
       " Cr,\n",
       " Mn,\n",
       " Fe,\n",
       " Co,\n",
       " Ni,\n",
       " Cu,\n",
       " Zn,\n",
       " Ga,\n",
       " Ge,\n",
       " As,\n",
       " Se,\n",
       " Br,\n",
       " Kr,\n",
       " Rb,\n",
       " Sr,\n",
       " Y,\n",
       " Zr,\n",
       " Nb,\n",
       " Mo,\n",
       " Tc,\n",
       " Ru,\n",
       " Rh,\n",
       " Pd,\n",
       " Ag,\n",
       " Cd,\n",
       " In,\n",
       " Sn,\n",
       " Sb,\n",
       " Te,\n",
       " I,\n",
       " Xe,\n",
       " Cs,\n",
       " Ba,\n",
       " La,\n",
       " Ce,\n",
       " Pr,\n",
       " Nd,\n",
       " Pm,\n",
       " Sm,\n",
       " Eu,\n",
       " Gd,\n",
       " Tb,\n",
       " Dy,\n",
       " Ho,\n",
       " Er,\n",
       " Tm,\n",
       " Yb,\n",
       " Lu,\n",
       " Hf,\n",
       " Ta,\n",
       " W,\n",
       " Re,\n",
       " Os,\n",
       " Ir,\n",
       " Pt,\n",
       " Au,\n",
       " Hg,\n",
       " Tl,\n",
       " Pb,\n",
       " Bi,\n",
       " Po,\n",
       " At,\n",
       " Rn,\n",
       " Fr,\n",
       " Ra,\n",
       " Ac,\n",
       " Th,\n",
       " Pa,\n",
       " U,\n",
       " Np,\n",
       " Pu,\n",
       " Am,\n",
       " Cm,\n",
       " Bk,\n",
       " Cf,\n",
       " Es,\n",
       " Fm,\n",
       " Md,\n",
       " No,\n",
       " Lr,\n",
       " Rf,\n",
       " Db,\n",
       " Sg,\n",
       " Bh,\n",
       " Hs,\n",
       " Mt,\n",
       " Ds,\n",
       " Rg,\n",
       " Cn,\n",
       " Nh,\n",
       " Fl,\n",
       " Mc,\n",
       " Lv,\n",
       " Ts,\n",
       " Og]"
      ]
     },
     "execution_count": 9,
     "metadata": {},
     "output_type": "execute_result"
    }
   ],
   "source": [
    "elements"
   ]
  },
  {
   "cell_type": "code",
   "execution_count": 2,
   "id": "a8194c5d-61c8-48c2-b0b4-72b215d588b1",
   "metadata": {},
   "outputs": [
    {
     "name": "stdout",
     "output_type": "stream",
     "text": [
      "n neutron\n",
      "H hydrogen\n",
      "He helium\n",
      "Li lithium\n",
      "Be beryllium\n",
      "B boron\n",
      "C carbon\n",
      "N nitrogen\n",
      "O oxygen\n",
      "F fluorine\n",
      "Ne neon\n",
      "Na sodium\n",
      "Mg magnesium\n",
      "Al aluminum\n",
      "Si silicon\n",
      "P phosphorus\n",
      "S sulfur\n",
      "Cl chlorine\n",
      "Ar argon\n",
      "K potassium\n",
      "Ca calcium\n",
      "Sc scandium\n",
      "Ti titanium\n",
      "V vanadium\n",
      "Cr chromium\n",
      "Mn manganese\n",
      "Fe iron\n",
      "Co cobalt\n",
      "Ni nickel\n",
      "Cu copper\n",
      "Zn zinc\n",
      "Ga gallium\n",
      "Ge germanium\n",
      "As arsenic\n",
      "Se selenium\n",
      "Br bromine\n",
      "Kr krypton\n",
      "Rb rubidium\n",
      "Sr strontium\n",
      "Y yttrium\n",
      "Zr zirconium\n",
      "Nb niobium\n",
      "Mo molybdenum\n",
      "Tc technetium\n",
      "Ru ruthenium\n",
      "Rh rhodium\n",
      "Pd palladium\n",
      "Ag silver\n",
      "Cd cadmium\n",
      "In indium\n",
      "Sn tin\n",
      "Sb antimony\n",
      "Te tellurium\n",
      "I iodine\n",
      "Xe xenon\n",
      "Cs cesium\n",
      "Ba barium\n",
      "La lanthanum\n",
      "Ce cerium\n",
      "Pr praseodymium\n",
      "Nd neodymium\n",
      "Pm promethium\n",
      "Sm samarium\n",
      "Eu europium\n",
      "Gd gadolinium\n",
      "Tb terbium\n",
      "Dy dysprosium\n",
      "Ho holmium\n",
      "Er erbium\n",
      "Tm thulium\n",
      "Yb ytterbium\n",
      "Lu lutetium\n",
      "Hf hafnium\n",
      "Ta tantalum\n",
      "W tungsten\n",
      "Re rhenium\n",
      "Os osmium\n",
      "Ir iridium\n",
      "Pt platinum\n",
      "Au gold\n",
      "Hg mercury\n",
      "Tl thallium\n",
      "Pb lead\n",
      "Bi bismuth\n",
      "Po polonium\n",
      "At astatine\n",
      "Rn radon\n",
      "Fr francium\n",
      "Ra radium\n",
      "Ac actinium\n",
      "Th thorium\n",
      "Pa protactinium\n",
      "U uranium\n",
      "Np neptunium\n",
      "Pu plutonium\n",
      "Am americium\n",
      "Cm curium\n",
      "Bk berkelium\n",
      "Cf californium\n",
      "Es einsteinium\n",
      "Fm fermium\n",
      "Md mendelevium\n",
      "No nobelium\n",
      "Lr lawrencium\n",
      "Rf rutherfordium\n",
      "Db dubnium\n",
      "Sg seaborgium\n",
      "Bh bohrium\n",
      "Hs hassium\n",
      "Mt meitnerium\n",
      "Ds darmstadtium\n",
      "Rg roentgenium\n",
      "Cn copernicium\n",
      "Nh nihonium\n",
      "Fl flerovium\n",
      "Mc moscovium\n",
      "Lv livermorium\n",
      "Ts tennessine\n",
      "Og oganesson\n"
     ]
    }
   ],
   "source": [
    "for el in periodictable.elements: \n",
    "    print(\"%s %s\"%(el.symbol,el.name))"
   ]
  },
  {
   "cell_type": "code",
   "execution_count": null,
   "id": "d79bc06a-d305-4ea6-a391-2cf57fc5087b",
   "metadata": {},
   "outputs": [],
   "source": [
    ">>> import periodictable\n",
    ">>> for el in periodictable.elements: \n",
    "...     print(\"%s %s\"%(el.symbol,el.name))\n",
    "n neutron"
   ]
  }
 ],
 "metadata": {
  "kernelspec": {
   "display_name": "test_rdkit_env",
   "language": "python",
   "name": "test_rdkit_env"
  },
  "language_info": {
   "codemirror_mode": {
    "name": "ipython",
    "version": 3
   },
   "file_extension": ".py",
   "mimetype": "text/x-python",
   "name": "python",
   "nbconvert_exporter": "python",
   "pygments_lexer": "ipython3",
   "version": "3.8.5"
  }
 },
 "nbformat": 4,
 "nbformat_minor": 5
}
