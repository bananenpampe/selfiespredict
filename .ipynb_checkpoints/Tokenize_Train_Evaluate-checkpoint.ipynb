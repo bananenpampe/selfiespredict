{
 "cells": [
  {
   "cell_type": "code",
   "execution_count": null,
   "metadata": {
    "executionInfo": {
     "elapsed": 7,
     "status": "ok",
     "timestamp": 1640209944683,
     "user": {
      "displayName": "tim kircher",
      "photoUrl": "https://lh3.googleusercontent.com/a/default-user=s64",
      "userId": "10910350068498886043"
     },
     "user_tz": -60
    },
    "id": "a1lFQYAzGOOb"
   },
   "outputs": [],
   "source": [
    "from selfiespredict.data.load_data import*\n",
    "from selfiespredict.helpers.errormetrics import *"
   ]
  },
  {
   "cell_type": "markdown",
   "metadata": {},
   "source": [
    "A data cleaner class is generated and used to import tokenized SELFIES and SMILES"
   ]
  },
  {
   "cell_type": "code",
   "execution_count": null,
   "metadata": {
    "colab": {
     "base_uri": "https://localhost:8080/",
     "height": 329
    },
    "executionInfo": {
     "elapsed": 2916,
     "status": "error",
     "timestamp": 1640210010942,
     "user": {
      "displayName": "tim kircher",
      "photoUrl": "https://lh3.googleusercontent.com/a/default-user=s64",
      "userId": "10910350068498886043"
     },
     "user_tz": -60
    },
    "id": "MlHwI1duHdcK",
    "outputId": "fe37a87c-309b-45f5-f767-1762467a753d"
   },
   "outputs": [],
   "source": [
    "data = Data_Cleaner()\n",
    "data.gen_txt(\"USPTO_480k\")"
   ]
  },
  {
   "cell_type": "markdown",
   "metadata": {},
   "source": [
    "A vocabulary for SMILES is generated from the previously generated tokenized SMILES. The entire training reactants and products are utilised to generate the vocabulary."
   ]
  },
  {
   "cell_type": "code",
   "execution_count": null,
   "metadata": {
    "colab": {
     "base_uri": "https://localhost:8080/"
    },
    "executionInfo": {
     "elapsed": 12147,
     "status": "ok",
     "timestamp": 1640213097709,
     "user": {
      "displayName": "tim kircher",
      "photoUrl": "https://lh3.googleusercontent.com/a/default-user=s64",
      "userId": "10910350068498886043"
     },
     "user_tz": -60
    },
    "id": "KWt1qOIRONxS",
    "outputId": "1eb20801-53f4-434d-d9da-3af732b3ccad"
   },
   "outputs": [],
   "source": [
    "%cd ./run\n",
    "! onmt_build_vocab -config run_SMILES_params_removed.yaml -src_seq_length 3000 -tgt_seq_length 3000 -src_vocab_size 3000 -tgt_vocab_size 3000 -n_sample -1"
   ]
  },
  {
   "cell_type": "markdown",
   "metadata": {},
   "source": [
    "A model is trained with a standard set of hyperparameters"
   ]
  },
  {
   "cell_type": "code",
   "execution_count": null,
   "metadata": {
    "id": "x9IHHvsRQfqX"
   },
   "outputs": [],
   "source": [
    "! onmt_train -config run_SMILES_params_removed.yaml \\\n",
    "        -seed 42 -gpu_ranks 0  \\\n",
    "        -train_steps 250000 -param_init 0 \\\n",
    "        -param_init_glorot -max_generator_batches 32 \\\n",
    "        -batch_type tokens -batch_size 6144\\\n",
    "         -normalization tokens -max_grad_norm 0  -accum_count 4 \\\n",
    "        -optim adam -adam_beta1 0.9 -adam_beta2 0.998 -decay_method noam  \\\n",
    "        -warmup_steps 8000 -learning_rate 2 -label_smoothing 0.0 \\\n",
    "        -layers 4 -rnn_size  384 -word_vec_size 384 \\\n",
    "        -encoder_type transformer -decoder_type transformer \\\n",
    "        -dropout 0.1 -position_encoding -share_embeddings  \\\n",
    "        -global_attention general -global_attention_function softmax \\\n",
    "        -self_attn_type scaled-dot -heads 8 -transformer_ff 2048 \\\n",
    "        -report_every 5000 -tensorboard True -tensorboard_log_dir log_dir"
   ]
  },
  {
   "cell_type": "markdown",
   "metadata": {},
   "source": [
    "A model for SMILES is utilised to translate SMILES reactants to SMILES products for the validation set"
   ]
  },
  {
   "cell_type": "code",
   "execution_count": null,
   "metadata": {},
   "outputs": [],
   "source": [
    "!onmt_translate -model ./results/SMILES/model_step_250000.pt -gpu 0 --src ../../data/tokenized_data/SMILES/USPTO_480k/src-val.txt --output Predictions_best_of_1_SMILES_test.txt  --n_best 1 --beam_size 5 --max_length 300 --batch_size 64"
   ]
  },
  {
   "cell_type": "markdown",
   "metadata": {},
   "source": [
    "The top1 accuracy of a pre-trained model is evaluated with the validation set"
   ]
  },
  {
   "cell_type": "code",
   "execution_count": null,
   "metadata": {
    "executionInfo": {
     "elapsed": 846,
     "status": "ok",
     "timestamp": 1640210940084,
     "user": {
      "displayName": "tim kircher",
      "photoUrl": "https://lh3.googleusercontent.com/a/default-user=s64",
      "userId": "10910350068498886043"
     },
     "user_tz": -60
    },
    "id": "lfSvkDf1Gdgz"
   },
   "outputs": [],
   "source": [
    "top1 = topN_accuracy(1, \"./results/SMILES/Predictions_best_of_1_SMILES_250k.txt\", \"./data/tokenized_data/SMILES/USPTO_480k/tgt-val.txt\")[0]"
   ]
  }
 ],
 "metadata": {
  "colab": {
   "authorship_tag": "ABX9TyOK/1GAw4qeuWC7RPtW/bPb",
   "collapsed_sections": [],
   "name": "Untitled0.ipynb",
   "provenance": []
  },
  "kernelspec": {
   "display_name": "Python 3 (ipykernel)",
   "language": "python",
   "name": "python3"
  },
  "language_info": {
   "codemirror_mode": {
    "name": "ipython",
    "version": 3
   },
   "file_extension": ".py",
   "mimetype": "text/x-python",
   "name": "python",
   "nbconvert_exporter": "python",
   "pygments_lexer": "ipython3",
   "version": "3.9.7"
  }
 },
 "nbformat": 4,
 "nbformat_minor": 1
}
