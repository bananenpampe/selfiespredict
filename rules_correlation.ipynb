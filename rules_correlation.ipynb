{
 "cells": [
  {
   "cell_type": "code",
   "execution_count": 4,
   "id": "51fa781d-34ee-4e7a-baa4-f5147c5f033f",
   "metadata": {},
   "outputs": [],
   "source": [
    "%config IPCompleter.use_jedi = False"
   ]
  },
  {
   "cell_type": "code",
   "execution_count": 3,
   "id": "5d89a8c8-228d-4498-a9a8-ae5b64126037",
   "metadata": {},
   "outputs": [],
   "source": [
    "import numpy as np"
   ]
  },
  {
   "cell_type": "code",
   "execution_count": 7,
   "id": "16be2095-6a53-400a-be96-652ae7ac8fb7",
   "metadata": {},
   "outputs": [],
   "source": [
    "import selfies as sf"
   ]
  },
  {
   "cell_type": "code",
   "execution_count": 69,
   "id": "9a0fa4f5-fd9e-43e7-a610-ead5670211d2",
   "metadata": {},
   "outputs": [],
   "source": [
    "from rdkit import Chem\n",
    "from rdkit import RDLogger\n",
    "RDLogger.DisableLog('rdApp.*') "
   ]
  },
  {
   "cell_type": "code",
   "execution_count": 29,
   "id": "df415912-28bf-432d-8163-49cbbc76ee0d",
   "metadata": {},
   "outputs": [],
   "source": [
    "molecule = Chem.MolFromSmiles(\"CCCCCN\")"
   ]
  },
  {
   "cell_type": "code",
   "execution_count": 39,
   "id": "bb7c98db-efef-4db2-b532-24cbcde78d71",
   "metadata": {},
   "outputs": [
    {
     "data": {
      "text/plain": [
       "5"
      ]
     },
     "execution_count": 39,
     "metadata": {},
     "output_type": "execute_result"
    }
   ],
   "source": [
    "molecule.GetNumBonds()"
   ]
  },
  {
   "cell_type": "code",
   "execution_count": 76,
   "id": "caea312f-671a-472e-94aa-499ed91cd580",
   "metadata": {},
   "outputs": [],
   "source": [
    "def do_nothing_rule(mols):\n",
    "    return 0"
   ]
  },
  {
   "cell_type": "code",
   "execution_count": 78,
   "id": "1a38d916-0ff4-416f-80f8-7fb2349dc690",
   "metadata": {},
   "outputs": [
    {
     "name": "stdout",
     "output_type": "stream",
     "text": [
      "0.7581666666666667\n"
     ]
    }
   ],
   "source": [
    "from rdkit import Chem\n",
    "from rdkit import RDLogger\n",
    "RDLogger.DisableLog('rdApp.*') \n",
    "import selfies as sf\n",
    "import numpy as np\n",
    "\n",
    "def bond_count_difference_rule(mols):\n",
    "    return mols[0][1].GetNumBonds() - mols[1][1].GetNumBonds()\n",
    "\n",
    "def do_nothing_rule(mols):\n",
    "    return 0\n",
    "\n",
    "def return_rule_mat(rules,n_samples):\n",
    "    return np.zeros((n_samples,len(rules)+2))\n",
    "\n",
    "\n",
    "def return_feature_mat(PATH_EDUCT,PATH_PRODUCT,PATH_TRANS,rules=[],repr_type=\"SMILES\"):\n",
    "\n",
    "    sf.set_semantic_constraints(\"hypervalent\")\n",
    "    constraints = sf.get_semantic_constraints()\n",
    "    constraints['P-1'] = 7\n",
    "    constraints['P'] = 6\n",
    "    constraints['P+1'] = 5\n",
    "    #14-18 should be max for organometallic transition metal complexes\n",
    "    constraints['?'] = 18\n",
    "    sf.set_semantic_constraints(constraints)\n",
    "    \n",
    "    with open(PATH_EDUCT,\"r\") as e, open(PATH_PRODUCT,\"r\") as p, open(PATH_TRANS,\"r\") as t:\n",
    "        lengths = [sum(1 for line in file) for file in [e,p,t]]\n",
    "        if not lengths[0] == lengths[1] == lengths[2]:\n",
    "            raise AssertionError(\"Something went wrong\")\n",
    "        \n",
    "    with open(PATH_EDUCT,\"r\") as e, open(PATH_PRODUCT,\"r\") as p, open(PATH_TRANS,\"r\") as t:\n",
    "        \n",
    "        rule_matrix = return_rule_mat(rules,lengths[0])\n",
    "    \n",
    "        for n, lines in enumerate(zip(e,p,t)):\n",
    "            #print(\"yo\")\n",
    "            raw_lines = lines\n",
    "            lines = [ line.replace(' ', '').rstrip(\"\\n\") for line in lines]\n",
    "            \n",
    "            if repr_type == \"SMILES\":\n",
    "                \n",
    "                representations = []\n",
    "                \n",
    "                for smiles in zip(raw_lines[:2],lines[:2]):\n",
    "                    try:\n",
    "                        representations.append((smiles[0],Chem.MolFromSmiles(smiles[1])))\n",
    "                    except:\n",
    "                        representations.append(\"NOTVALID\")\n",
    "                        print(\"smiles not valid\")\n",
    "            \n",
    "            elif repr_type == \"SELFIES\":\n",
    "                \n",
    "                representations = []\n",
    "                \n",
    "                for selfies_repr in zip(raw_lines[:2],lines[:2]):\n",
    "                    try:\n",
    "                        representations.append((selfies_repr[0],Chem.MolFromSmiles(sf.decoder(selfies_repr[1]))))\n",
    "                    except:\n",
    "                        representations.append(\"NOTVALID\")\n",
    "                \n",
    "            rule_matrix[n][0] = n\n",
    "            \n",
    "            if lines[2] == lines[1]:\n",
    "                rule_matrix[n][1] = 1\n",
    "            else:\n",
    "                rule_matrix[n][1] = 0\n",
    "            \n",
    "            for j,rule in enumerate(rules):\n",
    "                rule_matrix[n][j+2] = rule(representations)\n",
    "    \n",
    "    return rule_matrix\n",
    "            \n",
    "if __name__ == \"__main__\":\n",
    "    THIS = return_feature_mat(\"./data/tokenized_data/SELFIE/USPTO_480k/src-val.txt\",\"./data/tokenized_data/SELFIE/USPTO_480k/tgt-val.txt\",\"./data/tokenized_data/SELFIE/USPTO_480k/predictions_best1_selfies_with_brackets.txt\",rules=[bond_count_difference_rule],repr_type=\"SELFIES\")\n",
    "    #prints ERROR\n",
    "    print(np.sum(THIS[:,1])/len(THIS))"
   ]
  },
  {
   "cell_type": "code",
   "execution_count": 65,
   "id": "dc72d3e2-a18d-4066-a790-f83e3958be49",
   "metadata": {},
   "outputs": [],
   "source": [
    "numbas = [1,2,3]"
   ]
  },
  {
   "cell_type": "code",
   "execution_count": 66,
   "id": "16fd462d-d4ec-4a34-8bf6-e6ff9f4e0532",
   "metadata": {},
   "outputs": [
    {
     "data": {
      "text/plain": [
       "[1, 2]"
      ]
     },
     "execution_count": 66,
     "metadata": {},
     "output_type": "execute_result"
    }
   ],
   "source": [
    "numbas[:2]"
   ]
  },
  {
   "cell_type": "code",
   "execution_count": 79,
   "id": "2de81e0b-9a03-4d2e-a5aa-01db1d9d5b9c",
   "metadata": {
    "tags": []
   },
   "outputs": [],
   "source": [
    "THIS = return_feature_mat(\"./data/tokenized_data/SELFIE/USPTO_480k/src-val.txt\",\"./data/tokenized_data/SELFIE/USPTO_480k/tgt-val.txt\",\"./data/tokenized_data/SELFIE/USPTO_480k/predictions_best1_selfies_with_brackets.txt\",rules=[bond_count_difference_rule],repr_type=\"SELFIES\")"
   ]
  },
  {
   "cell_type": "code",
   "execution_count": 80,
   "id": "df52b414-02b7-41d4-a7b4-82316489dc91",
   "metadata": {},
   "outputs": [
    {
     "data": {
      "text/plain": [
       "0.7581666666666667"
      ]
     },
     "execution_count": 80,
     "metadata": {},
     "output_type": "execute_result"
    }
   ],
   "source": [
    "np.sum(THIS[:,1])/len(THIS)"
   ]
  },
  {
   "cell_type": "code",
   "execution_count": 2,
   "id": "db23e9ea-3b35-41c4-ba93-aa5df014d144",
   "metadata": {},
   "outputs": [
    {
     "data": {
      "text/plain": [
       "'sgare'"
      ]
     },
     "execution_count": 2,
     "metadata": {},
     "output_type": "execute_result"
    }
   ],
   "source": [
    "this[0].replace(\" \",\"\") "
   ]
  },
  {
   "cell_type": "code",
   "execution_count": 72,
   "id": "81102812-aa43-4368-95f8-52aa4fa28cf6",
   "metadata": {},
   "outputs": [
    {
     "data": {
      "text/plain": [
       "array([[ 0.0000e+00,  0.0000e+00, -4.0000e+00],\n",
       "       [ 1.0000e+00,  1.0000e+00, -4.0000e+00],\n",
       "       [ 2.0000e+00,  0.0000e+00, -2.1000e+01],\n",
       "       ...,\n",
       "       [ 2.9997e+04,  0.0000e+00, -1.4000e+01],\n",
       "       [ 2.9998e+04,  1.0000e+00, -4.0000e+00],\n",
       "       [ 2.9999e+04,  1.0000e+00, -6.0000e+00]])"
      ]
     },
     "execution_count": 72,
     "metadata": {},
     "output_type": "execute_result"
    }
   ],
   "source": [
    "THIS"
   ]
  },
  {
   "cell_type": "code",
   "execution_count": null,
   "id": "b85724f7-dfbe-4ef6-9905-423fb039d114",
   "metadata": {},
   "outputs": [],
   "source": [
    "np.correlate()"
   ]
  }
 ],
 "metadata": {
  "kernelspec": {
   "display_name": "test_rdkit_env",
   "language": "python",
   "name": "test_rdkit_env"
  },
  "language_info": {
   "codemirror_mode": {
    "name": "ipython",
    "version": 3
   },
   "file_extension": ".py",
   "mimetype": "text/x-python",
   "name": "python",
   "nbconvert_exporter": "python",
   "pygments_lexer": "ipython3",
   "version": "3.8.5"
  }
 },
 "nbformat": 4,
 "nbformat_minor": 5
}
